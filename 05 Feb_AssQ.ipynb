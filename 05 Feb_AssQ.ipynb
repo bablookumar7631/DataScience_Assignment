{
 "cells": [
  {
   "cell_type": "markdown",
   "id": "714e5b4d-f4c1-4499-8c36-e5f003540fc5",
   "metadata": {},
   "source": [
    "### Q1. Explain Class and Object with respect to Object-Oriented Programming. Give a suitable example.\n",
    "\n",
    "### Ans:-\n",
    "In object-oriented programming (OOP), a class is a blueprint or template for creating objects. It defines the structure and behavior of objects that belong to that class. A class defines the attributes (also known as properties or fields) and methods (functions) that the objects created from the class will have.\n",
    "\n",
    "An object, on the other hand, is an instance of a class. It's a concrete instantiation of the class, created based on the class's blueprint. Objects represent real-world entities and have their own state (attributes) and behavior (methods) as defined by the class."
   ]
  },
  {
   "cell_type": "code",
   "execution_count": 1,
   "id": "2a1d4dee-ea19-4e80-9861-df83ac4e1688",
   "metadata": {},
   "outputs": [
    {
     "name": "stdout",
     "output_type": "stream",
     "text": [
      "2020 Toyota Camry is running: False\n",
      "2020 Toyota Camry engine started.\n",
      "2020 Toyota Camry is running: True\n",
      "2020 Toyota Camry says 'Honk Honk!'\n",
      "2020 Toyota Camry engine stopped.\n",
      "2020 Toyota Camry is running: False\n"
     ]
    }
   ],
   "source": [
    "# simple example to illustrate the concept of a class and an object:\n",
    "\n",
    "class Car:\n",
    "    def __init__(self, make, model, year):\n",
    "        self.make = make\n",
    "        self.model = model\n",
    "        self.year = year\n",
    "        self.is_running = False\n",
    "\n",
    "    def start_engine(self):\n",
    "        self.is_running = True\n",
    "        print(f\"{self.year} {self.make} {self.model} engine started.\")\n",
    "\n",
    "    def stop_engine(self):\n",
    "        self.is_running = False\n",
    "        print(f\"{self.year} {self.make} {self.model} engine stopped.\")\n",
    "\n",
    "    def honk(self):\n",
    "        print(f\"{self.year} {self.make} {self.model} says 'Honk Honk!'\")\n",
    "\n",
    "# Create objects (instances) of the Car class\n",
    "car1 = Car(\"Toyota\", \"Camry\", 2020)\n",
    "car2 = Car(\"Honda\", \"Civic\", 2021)\n",
    "\n",
    "# Access attributes and methods of objects\n",
    "print(f\"{car1.year} {car1.make} {car1.model} is running: {car1.is_running}\")\n",
    "car1.start_engine()\n",
    "print(f\"{car1.year} {car1.make} {car1.model} is running: {car1.is_running}\")\n",
    "car1.honk()\n",
    "car1.stop_engine()\n",
    "print(f\"{car1.year} {car1.make} {car1.model} is running: {car1.is_running}\")"
   ]
  },
  {
   "cell_type": "markdown",
   "id": "35a666b0-29df-4687-af58-4238fabd6f95",
   "metadata": {},
   "source": [
    "### Q2. Name the four pillars of OOPs.\n",
    "\n",
    "### Ans:-\n",
    "**The four fundamental principles or pillars of Object-Oriented Programming (OOP) are:**\n",
    "\n",
    "1. **Encapsulation:** Encapsulation is the concept of bundling data (attributes) and the methods (functions) that operate on the data into a single unit called a class. It enforces access control mechanisms to prevent the accidental modification of data. In OOP, objects encapsulate data and behavior, providing a clear interface for interacting with them while hiding their internal details.\n",
    "\n",
    "2. **Inheritance:** Inheritance is a mechanism that allows you to create a new class (subclass or derived class) based on an existing class (base class or superclass). The subclass inherits attributes and methods from the superclass. Inheritance promotes code reuse and establishes a hierarchical relationship among classes, allowing for the creation of specialized classes from more general ones.\n",
    "\n",
    "3. **Polymorphism:** Polymorphism means \"many forms.\" It allows objects of different classes to be treated as objects of a common superclass. Polymorphism enables you to define methods in a generic way in the superclass, and subclasses can provide their own implementations. It allows flexibility and dynamic behavior based on the actual type of an object. Polymorphism is often achieved through method overriding and interfaces in languages like Java.\n",
    "\n",
    "4. **Abstraction:** Abstraction is the process of simplifying complex systems by breaking them into smaller, more manageable parts. In OOP, abstraction involves defining the essential characteristics and behavior of an object while hiding irrelevant details. It allows you to model real-world entities as classes and focus on the key attributes and behaviors. Abstraction helps in managing complexity and building more maintainable and understandable software."
   ]
  },
  {
   "cell_type": "markdown",
   "id": "06a08809-8f63-4b68-ba9f-afdaa81212e8",
   "metadata": {},
   "source": [
    "### Q3. Explain why the __init__() function is used. Give a suitable example.\n",
    "\n",
    "### Ans:-\n",
    "The '__init__()' function in Python is a special method, also known as a constructor. It is automatically called when an object of a class is created. Its primary purpose is to initialize the attributes (or properties) of the object with values that may be passed as arguments when the object is created. In other words, '__init__()' sets up the initial state of the object.\n",
    "\n",
    "**Here's why the '__init__()' function is used:**\n",
    "1. Initialization: The '__init__()' method allows you to initialize the attributes of an object during object creation. This ensures that the object starts with a well-defined state.\n",
    "\n",
    "2. Parameterized Construction: It enables you to create objects with different initial states by passing arguments to the constructor when creating instances of the class. This is useful when you want to customize the object's attributes during creation.\n",
    "\n",
    "3. Encapsulation: The '__init__()' method is often used to encapsulate the initialization logic within the class, making it an integral part of the class definition. This promotes encapsulation, one of the four pillars of OOP."
   ]
  },
  {
   "cell_type": "code",
   "execution_count": 2,
   "id": "08179b5b-d9ac-4f97-ac0b-5ce6e4873515",
   "metadata": {},
   "outputs": [
    {
     "name": "stdout",
     "output_type": "stream",
     "text": [
      "My name is Alice, and I am 30 years old.\n",
      "My name is Bob, and I am 25 years old.\n"
     ]
    }
   ],
   "source": [
    "# an example to illustrate the use of the '__init__()' function:\n",
    "\n",
    "class Person:\n",
    "    def __init__(self, name, age):\n",
    "        self.name = name\n",
    "        self.age = age\n",
    "\n",
    "    def introduce(self):\n",
    "        print(f\"My name is {self.name}, and I am {self.age} years old.\")\n",
    "\n",
    "# Create objects (instances) of the Person class\n",
    "person1 = Person(\"Alice\", 30)\n",
    "person2 = Person(\"Bob\", 25)\n",
    "\n",
    "# Call the introduce method to introduce the persons\n",
    "person1.introduce()\n",
    "person2.introduce()"
   ]
  },
  {
   "cell_type": "markdown",
   "id": "4584346c-0aa6-4a67-8e03-41092a8a853a",
   "metadata": {},
   "source": [
    "### Q4. Why self is used in OOPs?\n",
    "\n",
    "### Ans:-\n",
    "In Object-Oriented Programming (OOP) languages like Python, 'self' is a conventionally used name for the first parameter of instance methods within a class. It represents the instance of the class itself and is passed automatically when you call a method on an object. The use of 'self' serves several important purposes:\n",
    "\n",
    "1. Access to Instance Variables: self allows you to access and modify instance variables (also known as attributes or properties) within the class. These variables hold data unique to each instance of the class.\n",
    "\n",
    "2. Method Invocation: It enables you to call other instance methods within a class. When you call a method on an object, self is passed as the first argument, allowing the method to operate on the specific instance's data.\n",
    "\n",
    "3. Maintaining State: self is crucial for maintaining the state of individual objects. Each object can have its own set of attribute values, and self helps differentiate between them.\n",
    "\n",
    "4. Encapsulation: It promotes encapsulation, one of the core principles of OOP. By using self, you encapsulate the behavior and state of an object within the class, making it easier to manage and maintain."
   ]
  },
  {
   "cell_type": "code",
   "execution_count": 3,
   "id": "9ddc1ccf-f6a8-45b0-b6b5-1a88512e7454",
   "metadata": {},
   "outputs": [
    {
     "name": "stdout",
     "output_type": "stream",
     "text": [
      "Buddy (Labrador) says Woof!\n",
      "Max (Golden Retriever) says Woof!\n"
     ]
    }
   ],
   "source": [
    "# a simple example to illustrate the use of self in Python:\n",
    "\n",
    "class Dog:\n",
    "    def __init__(self, name, breed):\n",
    "        self.name = name  # Instance variable\n",
    "        self.breed = breed  # Instance variable\n",
    "\n",
    "    def bark(self):\n",
    "        print(f\"{self.name} ({self.breed}) says Woof!\")\n",
    "\n",
    "# Create two instances of the Dog class\n",
    "dog1 = Dog(\"Buddy\", \"Labrador\")\n",
    "dog2 = Dog(\"Max\", \"Golden Retriever\")\n",
    "\n",
    "# Call the bark method on each object\n",
    "dog1.bark()\n",
    "dog2.bark()"
   ]
  },
  {
   "cell_type": "markdown",
   "id": "7f777a5a-3eaa-4e56-8419-c9bae9e7ed34",
   "metadata": {},
   "source": [
    "### Q5. What is inheritance? Give an example for each type of inheritance.\n",
    "\n",
    "### Ans:-\n",
    "Inheritance is one of the fundamental concepts in object-oriented programming (OOP). It allows you to create a new class (called a subclass or derived class) based on an existing class (called a superclass or base class). Inheritance enables the subclass to inherit attributes and methods from the superclass, promoting code reuse and establishing a hierarchical relationship among classes.\n",
    "\n",
    "**There are several types of inheritance in OOP:**"
   ]
  },
  {
   "cell_type": "code",
   "execution_count": 4,
   "id": "e87ec8ca-c14a-4538-99c4-34f2666720d6",
   "metadata": {},
   "outputs": [
    {
     "name": "stdout",
     "output_type": "stream",
     "text": [
      "Woof!\n"
     ]
    }
   ],
   "source": [
    "# 1.Single Inheritance: In single inheritance, a subclass inherits from a single superclass. This is the simplest form of inheritance.\n",
    "\n",
    "class Animal:\n",
    "    def speak(self):\n",
    "        pass\n",
    "\n",
    "class Dog(Animal):\n",
    "    def speak(self):\n",
    "        return \"Woof!\"\n",
    "\n",
    "dog = Dog()\n",
    "print(dog.speak())  # Output: \"Woof!\""
   ]
  },
  {
   "cell_type": "code",
   "execution_count": 6,
   "id": "e3e32e93-09ae-4243-a668-b96dee359568",
   "metadata": {},
   "outputs": [],
   "source": [
    "# 2.Multiple Inheritance: In multiple inheritance, a subclass can inherit from multiple superclasses. This allows the subclass to inherit attributes and methods from multiple sources.\n",
    "\n",
    "class Bird:\n",
    "    def fly(self):\n",
    "        pass\n",
    "\n",
    "class Fish:\n",
    "    def swim(self):\n",
    "        pass\n",
    "\n",
    "class FlyingFish(Bird, Fish):\n",
    "    pass\n",
    "\n",
    "flying_fish = FlyingFish()\n",
    "flying_fish.fly()\n",
    "flying_fish.swim()"
   ]
  },
  {
   "cell_type": "code",
   "execution_count": 7,
   "id": "aee05b3f-35b0-4505-ba79-959b3bf8f5b4",
   "metadata": {},
   "outputs": [],
   "source": [
    "# 3.Multilevel Inheritance: In multilevel inheritance, a class inherits from another class, which in turn inherits from yet another class. This forms a chain of inheritance.\n",
    "\n",
    "class Grandparent:\n",
    "    def greet(self):\n",
    "        pass\n",
    "\n",
    "class Parent(Grandparent):\n",
    "    def talk(self):\n",
    "        pass\n",
    "\n",
    "class Child(Parent):\n",
    "    pass\n",
    "\n",
    "child = Child()\n",
    "child.greet()\n",
    "child.talk()"
   ]
  },
  {
   "cell_type": "code",
   "execution_count": 8,
   "id": "d728743a-d68e-4285-9010-2bac405ee6e9",
   "metadata": {},
   "outputs": [],
   "source": [
    "# 4.Hierarchical Inheritance: In hierarchical inheritance, multiple subclasses inherit from a single superclass. This allows you to create a hierarchy of related classes.\n",
    "\n",
    "class Shape:\n",
    "    def area(self):\n",
    "        pass\n",
    "\n",
    "class Circle(Shape):\n",
    "    pass\n",
    "\n",
    "class Square(Shape):\n",
    "    pass"
   ]
  },
  {
   "cell_type": "code",
   "execution_count": 9,
   "id": "8095b752-f46b-4a22-a96a-6f7fa8a00557",
   "metadata": {},
   "outputs": [],
   "source": [
    "# 5.Hybrid Inheritance: Hybrid inheritance is a combination of two or more types of inheritance mentioned above. It can be complex and may involve multiple levels and sources of inheritance.\n",
    "\n",
    "class A:\n",
    "    pass\n",
    "\n",
    "class B(A):\n",
    "    pass\n",
    "\n",
    "class C(A):\n",
    "    pass\n",
    "\n",
    "class D(B, C):\n",
    "    pass"
   ]
  }
 ],
 "metadata": {
  "kernelspec": {
   "display_name": "Python 3 (ipykernel)",
   "language": "python",
   "name": "python3"
  },
  "language_info": {
   "codemirror_mode": {
    "name": "ipython",
    "version": 3
   },
   "file_extension": ".py",
   "mimetype": "text/x-python",
   "name": "python",
   "nbconvert_exporter": "python",
   "pygments_lexer": "ipython3",
   "version": "3.10.8"
  }
 },
 "nbformat": 4,
 "nbformat_minor": 5
}
