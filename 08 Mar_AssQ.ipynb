{
 "cells": [
  {
   "cell_type": "markdown",
   "id": "90585e9b-26af-4b0f-9d51-ab6f37ac69e9",
   "metadata": {},
   "source": [
    "# Statistics Advance-1"
   ]
  },
  {
   "cell_type": "markdown",
   "id": "da70105e-83c4-43b4-8ccb-278f49f2c6c6",
   "metadata": {},
   "source": [
    "### Q1. What is the Probability density function?\n",
    "\n",
    "### Ans:-\n",
    "The Probability Density Function (PDF) is a fundamental concept in probability and statistics. It is a mathematical function that describes the likelihood of a continuous random variable taking on a specific value or falling within a particular range of values. In other words, the PDF provides a way to model the probability distribution of a continuous random variable.\n",
    "\n",
    "*Key characteristics of the Probability Density Function:*\n",
    "\n",
    "Continuous Random Variables: PDFs are primarily used to describe the behavior of continuous random variables, which can take on an infinite number of values within a given range. Examples of continuous random variables include time, distance, and temperature.\n",
    "\n",
    "Non-Negative and Integrates to 1: The PDF must be a non-negative function over its entire range, and the area under the curve of the PDF over the entire range must equal 1. This ensures that the total probability of all possible outcomes is 1.\n",
    "\n",
    "Probability Density: The value of the PDF at a specific point represents the \"density\" of the probability at that point. However, it does not provide the probability of a single point; instead, it indicates how likely it is for the random variable to take on values in a particular neighborhood of that point.\n",
    "\n",
    "Integration for Probability: To find the probability that the random variable falls within a specific interval, you integrate the PDF over that interval. In other words, the probability is the area under the PDF curve within the chosen range."
   ]
  },
  {
   "cell_type": "markdown",
   "id": "bf2d9bca-2269-43a0-90ea-89328a1b3437",
   "metadata": {},
   "source": [
    "### Q2. What are the types of Probability distribution?\n",
    "\n",
    "### Ans:-\n",
    "In probability and statistics, there are several types of probability distributions, each with its own characteristics and applications. Some of the most common types of probability distributions include:\n",
    "\n",
    "1. Uniform Distribution:\n",
    "\n",
    "- In a uniform distribution, all outcomes are equally likely over a specified range.\n",
    "- It is often used when each value within the range is equally probable, such as in the roll of a fair six-sided die.\n",
    "\n",
    "2. Normal Distribution (Gaussian Distribution):\n",
    "\n",
    "- The normal distribution is a symmetric, bell-shaped distribution that is characterized by its mean and standard deviation.\n",
    "- Many natural phenomena and human characteristics follow a normal distribution, such as heights, IQ scores, and errors in measurements.\n",
    "\n",
    "3. Binomial Distribution:\n",
    "\n",
    "- The binomial distribution models the number of successes in a fixed number of independent and identically distributed Bernoulli trials.\n",
    "- It is used in situations with two possible outcomes (success or failure) and a fixed number of trials, such as coin flips or pass/fail exams.\n",
    "\n",
    "4. Poisson Distribution:\n",
    "\n",
    "- The Poisson distribution models the number of events occurring in a fixed interval of time or space when events are rare and independent.\n",
    "- It is used to model occurrences of rare events, such as the number of customer arrivals at a store in a given time period.\n",
    "\n",
    "5. Exponential Distribution:\n",
    "\n",
    "- The exponential distribution describes the time between events in a Poisson process, where events occur at a constant average rate.\n",
    "- It is commonly used to model waiting times or lifetimes of components in engineering and reliability analysis.\n",
    "\n",
    "6. Geometric Distribution:\n",
    "\n",
    "- The geometric distribution models the number of trials required for the first success in a sequence of independent Bernoulli trials.\n",
    "- It is used to answer questions like \"How many times must a coin be tossed until it lands heads?\"\n",
    "\n",
    "7. Beta Distribution:\n",
    "\n",
    "- The beta distribution is a family of continuous probability distributions defined on the interval [0, 1].\n",
    "- It is used in Bayesian statistics and is often applied as a prior distribution for modeling probabilities.\n",
    "\n",
    "8. Gamma Distribution:\n",
    "\n",
    "- The gamma distribution is a family of continuous probability distributions that generalizes the exponential distribution.\n",
    "- It is used in various applications, including modeling waiting times, insurance claims, and queueing theory.\n",
    "\n",
    "9. Chi-Square Distribution:\n",
    "\n",
    "- The chi-square distribution is a continuous probability distribution that arises in the context of hypothesis testing and confidence intervals, particularly in the analysis of variance and goodness-of-fit tests.\n",
    "\n",
    "10. Student's t-Distribution:\n",
    "\n",
    "- Student's t-distribution is used for inference about population means when the sample size is small or the population standard deviation is unknown.\n",
    "- It is commonly used in t-tests for comparing sample means.\n",
    "\n",
    "11. F-Distribution:\n",
    "\n",
    "- The F-distribution is used in the analysis of variance and regression analysis to test the equality of variances and compare the fit of different models.\n",
    "\n",
    "These are some of the fundamental probability distributions used in statistics. Each distribution has its own specific characteristics and is appropriate for different types of data and scenarios. The choice of distribution depends on the nature of the data and the statistical problem being addressed."
   ]
  },
  {
   "cell_type": "markdown",
   "id": "308c7627-26a6-4cfd-b394-c4f41f6ed087",
   "metadata": {},
   "source": [
    "### Q3. Write a Python function to calculate the probability density function of a normal distribution with given mean and standard deviation at a given point.\n",
    "\n",
    "### Ans:-"
   ]
  },
  {
   "cell_type": "code",
   "execution_count": 1,
   "id": "060972ae-efb6-4c7f-b9ac-d67e869bd2d5",
   "metadata": {},
   "outputs": [
    {
     "name": "stdout",
     "output_type": "stream",
     "text": [
      "PDF at x = 1.0: 0.24197072451914337\n"
     ]
    }
   ],
   "source": [
    "import math\n",
    "\n",
    "def normal_pdf(x, mean, std_dev):\n",
    "    exponent = -((x - mean) ** 2) / (2 * std_dev ** 2)\n",
    "    pdf = (1 / (std_dev * math.sqrt(2 * math.pi))) * math.exp(exponent)\n",
    "    return pdf\n",
    "\n",
    "# Example usage:\n",
    "mean = 0.0\n",
    "std_dev = 1.0\n",
    "x_value = 1.0\n",
    "pdf_at_x = normal_pdf(x_value, mean, std_dev)\n",
    "print(f\"PDF at x = {x_value}: {pdf_at_x}\")"
   ]
  },
  {
   "cell_type": "markdown",
   "id": "cbdc2100-54c5-408b-809f-9c0998ce56f0",
   "metadata": {},
   "source": [
    "### Q4. What are the properties of Binomial distribution? Give two examples of events where binomial distribution can be applied.\n",
    "\n",
    "### Ans:-\n",
    "The binomial distribution is a probability distribution that describes the number of successes (or \"successes\" and \"failures\") in a fixed number of independent and identically distributed Bernoulli trials. It has several key properties:\n",
    "\n",
    "Fixed Number of Trials (n): The binomial distribution is based on a fixed number of trials (n), where each trial can result in one of two outcomes, often denoted as \"success\" or \"failure.\"\n",
    "\n",
    "Independence: Each trial is independent of the others. The outcome of one trial does not affect the outcome of subsequent trials.\n",
    "\n",
    "Constant Probability of Success (p): The probability of success (often denoted as \"p\") remains constant across all trials. In other words, the probability of success is the same for each trial.\n",
    "\n",
    "Two Possible Outcomes: Each trial has two possible outcomes, typically labeled as \"success\" (S) and \"failure\" (F). The probability of success is p, and the probability of failure is 1 - p.\n",
    "\n",
    "Discrete Outcomes: The number of successes (k) in n trials is a discrete random variable, meaning it can only take on integer values.\n",
    "\n",
    "Probability Mass Function: The probability mass function (PMF) of the binomial distribution is given by the binomial coefficient and is used to calculate the probability of obtaining exactly k successes in n trials.\n",
    "\n",
    "**Two common examples of events where the binomial distribution can be applied are:**\n",
    "\n",
    "Coin Flips: Modeling the number of heads obtained in a fixed number of coin flips. In this case, success might be defined as getting heads (H), and failure as getting tails (T). The probability of getting heads (p) remains constant at 0.5 (assuming a fair coin), and the number of trials is fixed.\n",
    "\n",
    "Quality Control: In manufacturing, determining the number of defective items in a sample of a fixed size. Success could be defined as a product passing quality control, and failure as a product failing. The probability of a product passing quality control (p) is constant, and the number of items inspected (trials) is fixed.\n",
    "\n",
    "In both examples, the binomial distribution is used to calculate the probability of obtaining a specific number of successes in a fixed number of trials, which is valuable for making predictions and decisions in various applications."
   ]
  },
  {
   "cell_type": "markdown",
   "id": "db61b575-14c4-4343-bf11-9b373d7efc46",
   "metadata": {},
   "source": [
    "### Q5. Generate a random sample of size 1000 from a binomial distribution with probability of success 0.4 and plot a histogram of the results using matplotlib.\n",
    "\n",
    "### Ans:-\n",
    "\n",
    "To generate a random sample from a binomial distribution with a probability of success of 0.4 and then plot a histogram of the results using matplotlib in Python."
   ]
  },
  {
   "cell_type": "code",
   "execution_count": 2,
   "id": "6fc17f27-ac41-40e0-ad10-6cab518c7e17",
   "metadata": {},
   "outputs": [
    {
     "data": {
      "image/png": "[encoded data removed]",
      "text/plain": [
       "<Figure size 640x480 with 1 Axes>"
      ]
     },
     "metadata": {},
     "output_type": "display_data"
    }
   ],
   "source": [
    "import numpy as np\n",
    "import matplotlib.pyplot as plt\n",
    "\n",
    "# Set the parameters\n",
    "n = 1000  # Sample size\n",
    "p = 0.4   # Probability of success\n",
    "\n",
    "# Generate a random sample from a binomial distribution\n",
    "random_sample = np.random.binomial(1, p, n)\n",
    "\n",
    "# Create a histogram of the random sample\n",
    "plt.hist(random_sample, bins=2, rwidth=0.8, color='skyblue', alpha=0.7, edgecolor='black')\n",
    "\n",
    "# Set plot labels and title\n",
    "plt.xlabel(\"Success (1) or Failure (0)\")\n",
    "plt.ylabel(\"Frequency\")\n",
    "plt.title(\"Binomial Distribution Histogram (n=1000, p=0.4)\")\n",
    "\n",
    "# Show the plot\n",
    "plt.show()"
   ]
  },
  {
   "cell_type": "markdown",
   "id": "ac188cba-7d42-40c5-9384-90c4678b0b3d",
   "metadata": {},
   "source": [
    "### Q6. Write a Python function to calculate the cumulative distribution function of a Poisson distribution with given mean at a given point.\n",
    "\n",
    "### Ans:-"
   ]
  },
  {
   "cell_type": "code",
   "execution_count": 3,
   "id": "81ce00ac-22f2-433b-a86d-281c1c6129c9",
   "metadata": {},
   "outputs": [
    {
     "name": "stdout",
     "output_type": "stream",
     "text": [
      "CDF at point 5: 0.9160820579686966\n"
     ]
    }
   ],
   "source": [
    "import math\n",
    "\n",
    "def poisson_cdf(point, mean):\n",
    "    \"\"\"\n",
    "    Calculate the cumulative distribution function (CDF) of a Poisson distribution at a given point.\n",
    "\n",
    "    Args:\n",
    "    - point (int): The point at which to calculate the CDF.\n",
    "    - mean (float): The mean of the Poisson distribution.\n",
    "\n",
    "    Returns:\n",
    "    - cdf (float): The CDF value at the specified point.\n",
    "    \"\"\"\n",
    "    cdf = 0.0\n",
    "    for k in range(point + 1):\n",
    "        cdf += (math.exp(-mean) * mean ** k) / math.factorial(k)\n",
    "    return cdf\n",
    "\n",
    "# Example usage:\n",
    "mean = 3.0\n",
    "point = 5\n",
    "cdf_at_point = poisson_cdf(point, mean)\n",
    "print(f\"CDF at point {point}: {cdf_at_point}\")"
   ]
  },
  {
   "cell_type": "markdown",
   "id": "e201dd1b-327d-4bb6-9f55-ffe619972dda",
   "metadata": {},
   "source": [
    "### Q7. How Binomial distribution different from Poisson distribution?\n",
    "\n",
    "### Ans:-\n",
    "The Binomial distribution and the Poisson distribution are both probability distributions used to model the number of events or successes in a series of trials or occurrences. However, they have distinct characteristics and are used in different situations. Here are the key differences between the two distributions:\n",
    "\n",
    "1. Nature of Trials:\n",
    "\n",
    "- Binomial Distribution: It is used to model a fixed number of trials (n) in which each trial can result in one of two possible outcomes, typically labeled as \"success\" and \"failure.\" These trials are independent and identically distributed (i.i.d.). The probability of success (p) remains constant across all trials. The binomial distribution is appropriate for situations where you have a clear fixed number of trials, and the outcome of each trial is either a success or a failure.\n",
    "\n",
    "- Poisson Distribution: It models the number of events that occur within a fixed interval of time or space. The trials are not fixed in advance, and the events occur randomly with a constant average rate (λ) per unit of time or space. The Poisson distribution is used for situations where events are rare and occur independently with a known average rate.\n",
    "\n",
    "2. Parameters:\n",
    "\n",
    "- Binomial Distribution: It is defined by two parameters, n (the number of trials) and p (the probability of success in a single trial).\n",
    "\n",
    "- Poisson Distribution: It is defined by a single parameter, λ (the average rate of events per unit of time or space).\n",
    "\n",
    "3. Possible Values:\n",
    "\n",
    "- Binomial Distribution: The number of successes (k) can take on discrete integer values from 0 to n.\n",
    "\n",
    "- Poisson Distribution: The number of events (k) can also take on discrete integer values, but there is no upper limit on the number of events.\n",
    "\n",
    "4. Shape of Distribution:\n",
    "\n",
    "- Binomial Distribution: The shape of the distribution is bell-shaped and symmetric if n is large and p is not extremely close to 0 or 1. It approaches a normal distribution under these conditions.\n",
    "\n",
    "- Poisson Distribution: The shape of the distribution is skewed to the right. It is typically used for modeling rare events, where most values are close to zero, and the distribution has a long tail on the right.\n",
    "\n",
    "5. Assumptions:\n",
    "\n",
    "- Binomial Distribution: Assumes a fixed number of trials with a constant probability of success.\n",
    "\n",
    "- Poisson Distribution: Assumes that events occur randomly and independently at a constant average rate.\n",
    "\n",
    "Examples:\n",
    "\n",
    "- Binomial Distribution: Modeling the number of heads obtained in a fixed number of coin flips, the number of successful shots in a fixed number of attempts in a basketball game, or the number of defective items in a fixed-size sample.\n",
    "\n",
    "- Poisson Distribution: Modeling the number of customer arrivals at a store in a fixed time interval, the number of phone calls at a call center in an hour, or the number of typos in a book."
   ]
  },
  {
   "cell_type": "markdown",
   "id": "bd2c5fb3-c2e2-4b87-9491-c2e353535865",
   "metadata": {},
   "source": [
    "### Q8. Generate a random sample of size 1000 from a Poisson distribution with mean 5 and calculate the sample mean and variance.\n",
    "\n",
    "### Ans:-"
   ]
  },
  {
   "cell_type": "code",
   "execution_count": 4,
   "id": "bc05c840-ac5c-457c-af75-92c95ec5cd0c",
   "metadata": {},
   "outputs": [
    {
     "name": "stdout",
     "output_type": "stream",
     "text": [
      "Sample Mean: 4.97\n",
      "Sample Variance: 4.7151000000000005\n"
     ]
    }
   ],
   "source": [
    "import numpy as np\n",
    "\n",
    "# Set the parameters\n",
    "sample_size = 1000\n",
    "mean = 5\n",
    "\n",
    "# Generate a random sample from a Poisson distribution\n",
    "poisson_sample = np.random.poisson(mean, sample_size)\n",
    "\n",
    "# Calculate the sample mean\n",
    "sample_mean = np.mean(poisson_sample)\n",
    "\n",
    "# Calculate the sample variance\n",
    "sample_variance = np.var(poisson_sample, ddof=0)  # ddof=0 for population variance\n",
    "\n",
    "# Print the results\n",
    "print(f\"Sample Mean: {sample_mean}\")\n",
    "print(f\"Sample Variance: {sample_variance}\")"
   ]
  },
  {
   "cell_type": "markdown",
   "id": "ca9470c2-6345-4af8-9cb7-fdf7d402ef9e",
   "metadata": {},
   "source": [
    "### Q9. How mean and variance are related in Binomial distribution and Poisson distribution?\n",
    "\n",
    "### Ans:-\n",
    "Mean and variance are related in both the Binomial and Poisson distributions, but the specific relationships differ due to the nature of these distributions.\n",
    "\n",
    "**Binomial Distribution:**\n",
    "\n",
    "In the Binomial distribution, where you have a fixed number of trials (n) with a constant probability of success (p) in each trial, the mean (μ) and variance (σ^2) are related as follows:\n",
    "\n",
    "1. Mean (μ): The mean of a Binomial distribution is equal to n⋅p, where \"n\" is the number of trials and \"p\" is the probability of success in a single trial.\n",
    "2. Variance (σ^2): The variance of a Binomial distribution is equal to n.p.(1-p)\n",
    "\n",
    "So, the variance in a Binomial distribution depends on both the number of trials and the probability of success. As the number of trials (n) or the probability of success (p) increases, the variance tends to increase, indicating greater variability.\n",
    "\n",
    "**Poisson Distribution:**\n",
    "\n",
    "In the Poisson distribution, which models the number of events occurring randomly in a fixed interval of time or space, the mean (λ) and variance (σ^2) are related as follows:\n",
    "\n",
    "1. Mean (λ): The mean of a Poisson distribution is equal to λ, which represents the average rate of events occurring in the specified interval.\n",
    "\n",
    "2. Variance (σ^2): The variance of a Poisson distribution is also equal to λ.\n",
    "\n",
    "Unlike the Binomial distribution, the variance of a Poisson distribution is solely determined by its mean (λ). In a Poisson distribution, both the mean and variance are equal, which is a characteristic specific to the Poisson distribution."
   ]
  },
  {
   "cell_type": "markdown",
   "id": "e73b5d66-3f22-43e8-922f-c4f8ed9f9d6d",
   "metadata": {},
   "source": [
    "### Q10. In normal distribution with respect to mean position, where does the least frequent data appear?\n",
    "\n",
    "### Ans:-\n",
    "In a normal distribution, the least frequent data appears in the tails of the distribution, farthest from the mean. The normal distribution, also known as the Gaussian distribution, is a symmetric and bell-shaped probability distribution.\n",
    "\n",
    "*Here's how the data is distributed in a normal distribution with respect to the mean position:*\n",
    "\n",
    "1. Mean (Center): The mean of a normal distribution is located at the center of the distribution, and it represents the most common or typical value.\n",
    "\n",
    "2. Tails (Ends): As you move away from the mean in both directions (left and right), the data becomes less frequent. The tails of the distribution represent extreme values, and these values occur with lower frequency. The data in the tails is farthest from the mean.\n",
    "\n",
    "- The area under the curve in the tails of the distribution represents a smaller proportion of the total data. This is why values in the tails are less frequent.\n",
    "\n",
    "- In a standard normal distribution (with a mean of 0 and a standard deviation of 1), values more than 3 standard deviations away from the mean in either direction are considered extremely rare.\n",
    "\n",
    "- Outliers, which are data points that fall in the extreme tails of the distribution, are typically the least frequent values and can be of particular interest in data analysis.\n",
    "\n",
    "So, in a normal distribution, the data that is farthest from the mean, in the tails of the distribution, represents the least frequent values."
   ]
  }
 ],
 "metadata": {
  "kernelspec": {
   "display_name": "Python 3 (ipykernel)",
   "language": "python",
   "name": "python3"
  },
  "language_info": {
   "codemirror_mode": {
    "name": "ipython",
    "version": 3
   },
   "file_extension": ".py",
   "mimetype": "text/x-python",
   "name": "python",
   "nbconvert_exporter": "python",
   "pygments_lexer": "ipython3",
   "version": "3.10.8"
  }
 },
 "nbformat": 4,
 "nbformat_minor": 5
}
