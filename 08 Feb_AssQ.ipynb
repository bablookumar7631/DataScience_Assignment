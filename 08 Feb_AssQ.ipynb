{
 "cells": [
  {
   "cell_type": "markdown",
   "id": "eba89fec-9645-4bce-80bc-6dc7b2e99a31",
   "metadata": {},
   "source": [
    "# Abstraction and Encapsulation"
   ]
  },
  {
   "cell_type": "markdown",
   "id": "e5592853-9402-41d2-bf20-8ca8580a1ddb",
   "metadata": {},
   "source": [
    "### Q1. What is Abstraction in OOps? Explain with an example.\n",
    "\n",
    "### Ans:-\n",
    "Abstraction is one of the four fundamental principles of object-oriented programming (OOP). It is a concept that allows you to model real-world objects and their behavior in a simplified and abstract manner, focusing on the essential characteristics while hiding the unnecessary details. In essence, abstraction helps manage complexity by emphasizing what an object does while concealing how it does it.\n",
    "\n",
    "**Here's an explanation of abstraction with an example:**\n",
    "\n",
    "**Example: Bank Account**"
   ]
  },
  {
   "cell_type": "code",
   "execution_count": 1,
   "id": "18f8b7b3-abba-48e2-9ebf-e5b5d9e945a9",
   "metadata": {},
   "outputs": [],
   "source": [
    "class BankAccount:\n",
    "    def __init__(self, account_number, owner_name):\n",
    "        self.account_number = account_number\n",
    "        self.owner_name = owner_name\n",
    "        self.balance = 0  # Initialize the balance to zero\n",
    "\n",
    "    def deposit(self, amount):\n",
    "        \"\"\"Add funds to the account.\"\"\"\n",
    "        if amount > 0:\n",
    "            self.balance += amount\n",
    "\n",
    "    def withdraw(self, amount):\n",
    "        \"\"\"Withdraw funds from the account.\"\"\"\n",
    "        if amount > 0 and amount <= self.balance:\n",
    "            self.balance -= amount\n",
    "\n",
    "    def get_balance(self):\n",
    "        \"\"\"Get the current balance.\"\"\"\n",
    "        return self.balance"
   ]
  },
  {
   "cell_type": "markdown",
   "id": "cf7965d1-d420-4376-8334-ec8bb7693fff",
   "metadata": {},
   "source": [
    "In this example, we have defined a BankAccount class that represents a bank account. We have chosen to abstract the concept of a bank account by including essential attributes like account_number, owner_name, and balance, and essential behaviors like deposit, withdraw, and get_balance."
   ]
  },
  {
   "cell_type": "code",
   "execution_count": 2,
   "id": "85126eef-a6a0-48f8-9f1e-605fe23260c2",
   "metadata": {},
   "outputs": [
    {
     "name": "stdout",
     "output_type": "stream",
     "text": [
      "Account balance: $500\n"
     ]
    }
   ],
   "source": [
    "# Create a bank account\n",
    "account1 = BankAccount(\"12345\", \"Alice\")\n",
    "\n",
    "# Deposit funds\n",
    "account1.deposit(1000)\n",
    "\n",
    "# Withdraw funds\n",
    "account1.withdraw(500)\n",
    "\n",
    "# Get the current balance\n",
    "balance = account1.get_balance()\n",
    "print(f\"Account balance: ${balance}\")"
   ]
  },
  {
   "cell_type": "markdown",
   "id": "4cc30a5c-2d7d-4fa6-a993-25be3114b05e",
   "metadata": {
    "tags": []
   },
   "source": [
    "### Q2. Differentiate between Abstraction and Encapsulation. Explain with an example.\n",
    "\n",
    "### Ans:-\n",
    "Abstraction and encapsulation are two fundamental concepts in object-oriented programming (OOP), and they are closely related but serve different purposes.\n",
    "\n",
    "**Abstraction:**\n",
    "1. Definition: Abstraction is the process of simplifying complex reality by modeling classes based on the essential attributes and behaviors of real-world objects while ignoring non-essential details.\n",
    "\n",
    "2. Purpose: Abstraction aims to provide a clear and abstract view of an object, focusing on what an object does rather than how it does it. It helps manage complexity and allows you to create a high-level view of an object.\n",
    "\n",
    "3. Example: In a car, we abstract away many details. For instance, we don't need to know how the engine works to drive a car. We only need to know how to use the steering wheel, pedals, and gear shift to control the car's essential functions.\n",
    "\n",
    "**Encapsulation:**\n",
    "1. Definition: Encapsulation is the concept of bundling an object's attributes (data) and methods (functions) that operate on those attributes into a single unit (a class). It hides the internal implementation details of an object and restricts direct access to its data.\n",
    "\n",
    "2. Purpose: Encapsulation is used to protect an object's integrity by preventing unauthorized access or modification of its internal state. It also promotes the principle of information hiding.\n",
    "\n",
    "3. Example: Consider a bank account class. It encapsulates the account balance and provides methods like deposit and withdraw to interact with the balance. The internal balance is not directly accessible from outside the class, ensuring data integrity.\n",
    "\n",
    "**Example Illustrating Both Concepts:**"
   ]
  },
  {
   "cell_type": "code",
   "execution_count": 3,
   "id": "af5211ca-8a18-4266-9d41-99ed90ff611f",
   "metadata": {},
   "outputs": [
    {
     "name": "stdout",
     "output_type": "stream",
     "text": [
      "Current speed: 10 mph\n"
     ]
    }
   ],
   "source": [
    "class Car:\n",
    "    def __init__(self, make, model):\n",
    "        self.make = make          # Abstraction: Essential attributes (make, model)\n",
    "        self.model = model\n",
    "        self.speed = 0            # Abstraction: Essential initial state (speed)\n",
    "\n",
    "    def accelerate(self):\n",
    "        \"\"\"Abstraction: Method to increase speed.\"\"\"\n",
    "        self.speed += 10\n",
    "\n",
    "    def brake(self):\n",
    "        \"\"\"Abstraction: Method to decrease speed.\"\"\"\n",
    "        self.speed -= 5\n",
    "\n",
    "    def get_speed(self):\n",
    "        \"\"\"Encapsulation: Method to access speed attribute.\"\"\"\n",
    "        return self.speed\n",
    "\n",
    "# Create a Car object\n",
    "my_car = Car(\"Toyota\", \"Camry\")\n",
    "\n",
    "# Accelerate the car (using abstraction)\n",
    "my_car.accelerate()\n",
    "\n",
    "# Get the current speed (using encapsulation)\n",
    "speed = my_car.get_speed()\n",
    "print(f\"Current speed: {speed} mph\")"
   ]
  },
  {
   "cell_type": "markdown",
   "id": "661c6023-d598-4e01-9b7e-083ae5ea7de7",
   "metadata": {},
   "source": [
    "### Q3. What is abc module in python? Why is it used?\n",
    "\n",
    "### Ans:-\n",
    "The abc module in Python stands for \"Abstract Base Classes.\" It is a module in the Python standard library that provides mechanisms for defining and working with abstract base classes. Abstract base classes serve as blueprints for other classes and are used for creating a common interface that subclasses are expected to implement.\n",
    "\n",
    "**Key features and purposes of the abc module:**\n",
    "1. Abstract Base Classes: The primary purpose of the abc module is to facilitate the creation of abstract base classes. Abstract base classes define a set of methods that subclasses must implement. They act as a contract or interface that ensures certain methods are available in subclasses.\n",
    "\n",
    "2. Enforcement of Interfaces: Abstract base classes allow you to define interfaces in Python. This means you can create a common set of methods that must be implemented by subclasses, ensuring consistency and providing clear expectations for how classes should behave.\n",
    "\n",
    "3. Prevention of Instantiation: Abstract base classes cannot be instantiated themselves. They are meant to be subclassed, and the abstract methods they define must be implemented in concrete subclasses.\n",
    "\n",
    "4. isinstance() and issubclass() Functions: The abc module provides functions like isinstance() and issubclass() that can be used to check if an object is an instance of a particular abstract base class or if a class is a subclass of an abstract base class."
   ]
  },
  {
   "cell_type": "markdown",
   "id": "859cbfc2-147f-42ea-a71d-763234f6414d",
   "metadata": {},
   "source": [
    "### Q4. How can we achieve data abstraction?\n",
    "\n",
    "### Ans:-\n",
    "Data abstraction is one of the core principles of object-oriented programming (OOP). It involves the concept of abstract data types (ADTs) and the ability to define and manipulate data at a high level, focusing on what data represents rather than how it is implemented. You can achieve data abstraction in Python and other OOP languages through the following techniques:\n",
    "\n",
    "1. Classes and Objects: In Python, you can use classes and objects to represent abstract data types. A class defines the blueprint for an abstract data type, while objects are instances of that class. Classes encapsulate data (attributes) and behaviors (methods), allowing you to interact with data at a higher level."
   ]
  },
  {
   "cell_type": "code",
   "execution_count": 4,
   "id": "47339324-09f3-4c59-a3fb-b1199781cbe6",
   "metadata": {},
   "outputs": [],
   "source": [
    "class Person:\n",
    "    def __init__(self, name, age):\n",
    "        self.name = name  # Data attribute\n",
    "        self.age = age\n",
    "\n",
    "    def greet(self):\n",
    "        print(f\"Hello, my name is {self.name}.\")  # Behavior (method)\n",
    "\n",
    "person1 = Person(\"Alice\", 30)  # Creating an object"
   ]
  },
  {
   "cell_type": "markdown",
   "id": "f0d4f625-940f-4df3-8d5d-70f0ea817864",
   "metadata": {},
   "source": [
    "2. Encapsulation: Encapsulation is another essential concept that contributes to data abstraction. It involves bundling data (attributes) and methods (functions) into a single unit (a class). Encapsulation helps in hiding the internal details of data and providing controlled access to it."
   ]
  },
  {
   "cell_type": "code",
   "execution_count": 5,
   "id": "36007f34-88a8-4749-917f-789962c47058",
   "metadata": {},
   "outputs": [],
   "source": [
    "class BankAccount:\n",
    "    def __init__(self, account_number, balance):\n",
    "        self.account_number = account_number\n",
    "        self.balance = balance\n",
    "\n",
    "    def deposit(self, amount):\n",
    "        if amount > 0:\n",
    "            self.balance += amount\n",
    "\n",
    "    def withdraw(self, amount):\n",
    "        if 0 < amount <= self.balance:\n",
    "            self.balance -= amount"
   ]
  },
  {
   "cell_type": "markdown",
   "id": "2fb5b852-727d-46f0-9dfd-75749d7e3f28",
   "metadata": {},
   "source": [
    "3. Abstraction through Interfaces: Use abstract base classes (ABCs) to define interfaces that enforce a common set of methods. Subclasses must implement these methods, ensuring that data is manipulated consistently."
   ]
  },
  {
   "cell_type": "code",
   "execution_count": 6,
   "id": "603dc340-782b-4b8c-82f0-213333fabec1",
   "metadata": {},
   "outputs": [],
   "source": [
    "from abc import ABC, abstractmethod\n",
    "\n",
    "class Shape(ABC):\n",
    "    @abstractmethod\n",
    "    def area(self):\n",
    "        pass\n",
    "\n",
    "class Circle(Shape):\n",
    "    def __init__(self, radius):\n",
    "        self.radius = radius\n",
    "\n",
    "    def area(self):\n",
    "        return 3.14 * self.radius * self.radius"
   ]
  },
  {
   "cell_type": "markdown",
   "id": "650986c9-12bc-4c12-9cf1-f79cc8cf72d4",
   "metadata": {},
   "source": [
    "4. Polymorphism: Polymorphism allows you to work with objects of different classes through a common interface. This feature is essential for achieving data abstraction because it enables you to interact with data without knowing the specific implementation details."
   ]
  },
  {
   "cell_type": "code",
   "execution_count": 9,
   "id": "dc27e9be-a813-44af-b753-4950688e88c0",
   "metadata": {},
   "outputs": [
    {
     "name": "stdout",
     "output_type": "stream",
     "text": [
      "Area: 78.5\n",
      "Area: 24\n"
     ]
    }
   ],
   "source": [
    "from abc import ABC, abstractmethod\n",
    "\n",
    "# Define an abstract base class (Shape)\n",
    "class Shape(ABC):\n",
    "    @abstractmethod\n",
    "    def area(self):\n",
    "        pass\n",
    "\n",
    "# Define a concrete subclass (Circle) that inherits from Shape\n",
    "class Circle(Shape):\n",
    "    def __init__(self, radius):\n",
    "        self.radius = radius\n",
    "\n",
    "    def area(self):\n",
    "        return 3.14 * self.radius * self.radius\n",
    "\n",
    "# Define another concrete subclass (Rectangle) that inherits from Shape\n",
    "class Rectangle(Shape):\n",
    "    def __init__(self, width, height):\n",
    "        self.width = width\n",
    "        self.height = height\n",
    "\n",
    "    def area(self):\n",
    "        return self.width * self.height\n",
    "\n",
    "# Function that accepts any object of a class inheriting from Shape\n",
    "def print_area(shape):\n",
    "    print(f\"Area: {shape.area()}\")\n",
    "\n",
    "# Create objects of Circle and Rectangle\n",
    "circle = Circle(5)\n",
    "rectangle = Rectangle(4, 6)\n",
    "\n",
    "# Use polymorphism to print the area of different shapes\n",
    "print_area(circle)\n",
    "print_area(rectangle)"
   ]
  },
  {
   "cell_type": "markdown",
   "id": "c81f8aad-c324-4c34-8388-1c4b534f168d",
   "metadata": {},
   "source": [
    "5. Access Control: Python provides mechanisms for controlling access to data attributes and methods through public, protected, and private naming conventions (e.g., _variable, __variable). This helps in maintaining data abstraction by specifying the level of visibility and access for different parts of your code."
   ]
  },
  {
   "cell_type": "code",
   "execution_count": 8,
   "id": "873462d5-41a7-4c2f-990a-e1fd27c0fe27",
   "metadata": {},
   "outputs": [],
   "source": [
    "class Student:\n",
    "    def __init__(self, name, age):\n",
    "        self.name = name\n",
    "        self.__age = age  # Private attribute\n",
    "\n",
    "    def get_age(self):\n",
    "        return self.__age  # Access via a method"
   ]
  },
  {
   "cell_type": "markdown",
   "id": "f7455df9-25bb-4386-86c1-063f8d200b72",
   "metadata": {},
   "source": [
    "6. Documentation: Proper documentation, including docstrings and comments, plays a crucial role in data abstraction. It helps other developers understand how to use your classes and objects without diving into implementation details."
   ]
  },
  {
   "cell_type": "markdown",
   "id": "16dd79fc-eaf4-4c14-8531-0e2f6ab3db5c",
   "metadata": {},
   "source": [
    "### Q5. Can we create an instance of an abstract class? Explain your answer.\n",
    "\n",
    "### Ans:-\n",
    "No, you cannot create an instance of an abstract class in Python. Attempting to do so will result in a TypeError.\n",
    "\n",
    "An abstract class is designed to be a blueprint for other classes. It contains one or more abstract methods (methods without implementations) that must be implemented by concrete subclasses. Because abstract classes are incomplete in terms of method implementations, they are not meant to be instantiated.\n",
    "\n",
    "**Here's an example to illustrate this:**"
   ]
  },
  {
   "cell_type": "code",
   "execution_count": 10,
   "id": "e3d16c6e-832f-4901-8bd0-1826d91dc41e",
   "metadata": {},
   "outputs": [
    {
     "ename": "TypeError",
     "evalue": "Can't instantiate abstract class AbstractClass with abstract method abstract_method",
     "output_type": "error",
     "traceback": [
      "\u001b[0;31m---------------------------------------------------------------------------\u001b[0m",
      "\u001b[0;31mTypeError\u001b[0m                                 Traceback (most recent call last)",
      "Cell \u001b[0;32mIn[10], line 10\u001b[0m\n\u001b[1;32m      6\u001b[0m         \u001b[38;5;28;01mpass\u001b[39;00m\n\u001b[1;32m      8\u001b[0m \u001b[38;5;66;03m# Attempt to create an instance of the abstract class\u001b[39;00m\n\u001b[1;32m      9\u001b[0m \u001b[38;5;66;03m# This will raise a TypeError.\u001b[39;00m\n\u001b[0;32m---> 10\u001b[0m obj \u001b[38;5;241m=\u001b[39m \u001b[43mAbstractClass\u001b[49m\u001b[43m(\u001b[49m\u001b[43m)\u001b[49m\n",
      "\u001b[0;31mTypeError\u001b[0m: Can't instantiate abstract class AbstractClass with abstract method abstract_method"
     ]
    }
   ],
   "source": [
    "from abc import ABC, abstractmethod\n",
    "\n",
    "class AbstractClass(ABC):\n",
    "    @abstractmethod\n",
    "    def abstract_method(self):\n",
    "        pass\n",
    "\n",
    "# Attempt to create an instance of the abstract class\n",
    "# This will raise a TypeError.\n",
    "obj = AbstractClass()"
   ]
  },
  {
   "cell_type": "markdown",
   "id": "ef23ea67-bf02-4f8f-a22e-c639e891f111",
   "metadata": {},
   "source": [
    "In this example, the AbstractClass is an abstract base class with an abstract method abstract_method(). When you attempt to create an instance of AbstractClass, you will receive a TypeError stating that you cannot instantiate an abstract class.\n",
    "\n",
    "Abstract classes are meant to provide a common interface and ensure that subclasses adhere to that interface by implementing the required methods. Concrete subclasses that provide implementations for all abstract methods can be instantiated, but the abstract base class itself cannot be used to create objects."
   ]
  }
 ],
 "metadata": {
  "kernelspec": {
   "display_name": "Python 3 (ipykernel)",
   "language": "python",
   "name": "python3"
  },
  "language_info": {
   "codemirror_mode": {
    "name": "ipython",
    "version": 3
   },
   "file_extension": ".py",
   "mimetype": "text/x-python",
   "name": "python",
   "nbconvert_exporter": "python",
   "pygments_lexer": "ipython3",
   "version": "3.10.8"
  }
 },
 "nbformat": 4,
 "nbformat_minor": 5
}
