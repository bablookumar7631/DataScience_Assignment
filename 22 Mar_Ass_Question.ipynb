{
 "cells": [
  {
   "cell_type": "markdown",
   "id": "9c28f056-0089-4e35-98a5-f24796d450e7",
   "metadata": {},
   "source": [
    "### Q1. Pearson correlation coefficient is a measure of the linear relationship between two variables. Suppose you have collected data on the amount of time students spend studying for an exam and their final exam scores. Calculate the Pearson correlation coefficient between these two variables and interpret the result.\n",
    "\n",
    "### Ans:-\n",
    "The Pearson correlation coefficient is a statistical measure that quantifies the strength and direction of the linear relationship between two continuous variables. It ranges between -1 and 1, where -1 indicates a perfect negative linear relationship, 1 indicates a perfect positive linear relationship, and 0 indicates no linear relationship between the variables."
   ]
  },
  {
   "cell_type": "code",
   "execution_count": 4,
   "id": "af674d6e-55c4-4a72-85d1-9ebddbe7a74f",
   "metadata": {},
   "outputs": [
    {
     "name": "stdout",
     "output_type": "stream",
     "text": [
      "Pearson Correlation Coefficient: 1.0\n"
     ]
    }
   ],
   "source": [
    "import numpy as np\n",
    "\n",
    "# Sample data for study time and exam scores\n",
    "study_time = [2, 4, 3, 6, 5]\n",
    "exam_scores = [75, 85, 80, 95, 90]\n",
    "\n",
    "# Calculate the Pearson correlation coefficient\n",
    "correlation_coefficient = np.corrcoef(study_time, exam_scores)[0, 1]\n",
    "\n",
    "# Print the Pearson correlation coefficient\n",
    "print(\"Pearson Correlation Coefficient:\", correlation_coefficient)"
   ]
  },
  {
   "cell_type": "markdown",
   "id": "69b447dd-fa11-4c3f-b9c4-2137262b00af",
   "metadata": {},
   "source": [
    "Interpretation of the Result:\n",
    "\n",
    "The Pearson correlation coefficient between study time and exam scores is approximately 1.0. This value is close to 1, indicating a strong positive linear relationship between the two variables. The positive sign suggests that as the amount of time students spend studying increases, their final exam scores tend to increase as well."
   ]
  },
  {
   "cell_type": "markdown",
   "id": "23f126af-d2cf-4814-b58e-d8759fd69884",
   "metadata": {},
   "source": [
    "### Q2. Spearman's rank correlation is a measure of the monotonic relationship between two variables. Suppose you have collected data on the amount of sleep individuals get each night and their overall job satisfaction level on a scale of 1 to 10. Calculate the Spearman's rank correlation between these two variables and interpret the result.\n",
    "\n",
    "### Ans:-\n",
    "Spearman's rank correlation coefficient is a statistical measure used to assess the strength and direction of the monotonic relationship between two variables. It focuses on the relative order of data points rather than the actual values. Spearman's rank correlation ranges between -1 and 1, where -1 indicates a perfect negative monotonic relationship, 1 indicates a perfect positive monotonic relationship, and 0 indicates no monotonic relationship between the variables."
   ]
  },
  {
   "cell_type": "code",
   "execution_count": 5,
   "id": "6e8ecd26-1b9f-4da6-b54f-a095de3aeb75",
   "metadata": {},
   "outputs": [
    {
     "name": "stdout",
     "output_type": "stream",
     "text": [
      "Spearman's Rank Correlation Coefficient: 0.15389675281277312\n"
     ]
    }
   ],
   "source": [
    "from scipy.stats import spearmanr\n",
    "\n",
    "# Sample data for amount of sleep and job satisfaction\n",
    "amount_of_sleep = [6, 7, 8, 5, 6]\n",
    "job_satisfaction = [8, 6, 7, 5, 9]\n",
    "\n",
    "# Calculate the Spearman's rank correlation coefficient\n",
    "correlation_coefficient, p_value = spearmanr(amount_of_sleep, job_satisfaction)\n",
    "\n",
    "# Print the Spearman's rank correlation coefficient\n",
    "print(\"Spearman's Rank Correlation Coefficient:\", correlation_coefficient)"
   ]
  },
  {
   "cell_type": "markdown",
   "id": "ad9f1c5e-f6a6-48a2-93fe-200396c4078a",
   "metadata": {},
   "source": [
    "Interpretation of the Result:\n",
    "\n",
    "The Spearman's rank correlation coefficient between the amount of sleep and job satisfaction is approximately 0.15389675281277312. This value suggests a positive monotonic relationship between the two variables, but the relationship is not very strong. A value of 0.15389675281277312 indicates a weak to moderate positive monotonic correlation."
   ]
  },
  {
   "cell_type": "markdown",
   "id": "7ca1318c-e99a-463e-bc80-21bae7ad6834",
   "metadata": {},
   "source": [
    "### Q3. Suppose you are conducting a study to examine the relationship between the number of hours of exercise per week and body mass index (BMI) in a sample of adults. You collected data on both variables for 50 participants. Calculate the Pearson correlation coefficient and the Spearman's rank correlation between these two variables and compare the results.\n",
    "\n",
    "### Ans:-\n",
    "To calculate both the Pearson correlation coefficient and the Spearman's rank correlation coefficient between the number of hours of exercise per week and body mass index (BMI) for a sample of 50 participants, you can use Python's SciPy library. The Pearson correlation coefficient assesses the linear relationship, while the Spearman's rank correlation coefficient assesses the monotonic relationship between the variables."
   ]
  },
  {
   "cell_type": "code",
   "execution_count": 6,
   "id": "0052d702-34b8-4c09-a561-b5a0873bf41a",
   "metadata": {},
   "outputs": [
    {
     "name": "stdout",
     "output_type": "stream",
     "text": [
      "Pearson Correlation Coefficient: 0.9793322601000153\n",
      "Spearman's Rank Correlation Coefficient: 0.9842412012242338\n"
     ]
    }
   ],
   "source": [
    "import numpy as np\n",
    "from scipy.stats import pearsonr, spearmanr\n",
    "\n",
    "# Sample data for exercise hours and BMI\n",
    "exercise_hours = [3, 6, 4, 2, 5, 1, 2, 3, 4, 5, 6, 3, 2, 1, 4, 5, 6, 2, 3, 4,\n",
    "                  5, 1, 2, 3, 4, 5, 6, 3, 2, 1, 4, 5, 6, 2, 3, 4, 5, 1, 2, 3,\n",
    "                  4, 5, 6, 3, 2, 1, 4, 5, 6, 2, 3]\n",
    "bmi = [25.2, 30.1, 27.5, 23.8, 29.7, 22.3, 23.1, 24.8, 26.3, 28.5, 31.0, 25.6,\n",
    "       22.5, 21.8, 27.9, 30.3, 32.7, 23.5, 24.7, 28.0, 29.2, 21.5, 22.8, 24.3,\n",
    "       26.1, 28.8, 30.6, 25.3, 22.6, 21.9, 27.3, 29.9, 32.2, 23.9, 24.9, 28.1,\n",
    "       30.0, 21.7, 22.9, 25.0, 26.2, 28.9, 31.1, 25.7, 22.7, 21.8, 27.5, 29.8,\n",
    "       32.1, 24.0, 24.6]\n",
    "\n",
    "# Calculate Pearson correlation coefficient\n",
    "pearson_corr_coeff, _ = pearsonr(exercise_hours, bmi)\n",
    "\n",
    "# Calculate Spearman's rank correlation coefficient\n",
    "spearman_corr_coeff, _ = spearmanr(exercise_hours, bmi)\n",
    "\n",
    "# Print the correlation coefficients\n",
    "print(\"Pearson Correlation Coefficient:\", pearson_corr_coeff)\n",
    "print(\"Spearman's Rank Correlation Coefficient:\", spearman_corr_coeff)"
   ]
  },
  {
   "cell_type": "markdown",
   "id": "d1740b40-59da-4000-8a5d-797a7091b9e4",
   "metadata": {},
   "source": [
    "Comparison of Results:\n",
    "\n",
    "1. Pearson Correlation Coefficient: Approximately 0.979\n",
    "The Pearson correlation coefficient indicates a positive linear relationship between the number of hours of exercise per week and BMI. The value of 0.979 suggests a weak to moderate positive correlation. This means that as the number of hours of exercise increases, BMI tends to increase, but the relationship is not very strong.\n",
    "\n",
    "2. Spearman's Rank Correlation Coefficient: Approximately 0.984\n",
    "The Spearman's rank correlation coefficient indicates a positive monotonic relationship between the two variables. The value of 0.984 suggests a weak to moderate positive monotonic correlation. This aligns with the Pearson correlation result, indicating a similar level of relationship."
   ]
  },
  {
   "cell_type": "markdown",
   "id": "ca645186-4caa-4b5c-8566-0cc8ee1ffd80",
   "metadata": {},
   "source": [
    "### Q4. A researcher is interested in examining the relationship between the number of hours individuals spend watching television per day and their level of physical activity. The researcher collected data on both variables from a sample of 50 participants. Calculate the Pearson correlation coefficient betweenthese two variables.\n",
    "\n",
    "###  Ans:-\n",
    "To calculate the Pearson correlation coefficient between the number of hours individuals spend watching television per day and their level of physical activity for a sample of 50 participants, you can use Python's SciPy library. The Pearson correlation coefficient assesses the linear relationship between the two continuous variables."
   ]
  },
  {
   "cell_type": "code",
   "execution_count": 10,
   "id": "b1d15e0e-b3d3-4af6-9f08-a1d52e71e4f0",
   "metadata": {},
   "outputs": [
    {
     "name": "stdout",
     "output_type": "stream",
     "text": [
      "Pearson Correlation Coefficient: -0.42014715274265846\n"
     ]
    }
   ],
   "source": [
    "import numpy as np\n",
    "from scipy.stats import pearsonr\n",
    "\n",
    "# Corrected sample data for hours of TV watching and level of physical activity\n",
    "tv_hours = [2, 3, 4, 5, 6, 1, 2, 3, 4, 5, 6, 3, 2, 1, 4, 5, 6, 2, 3, 4,\n",
    "            5, 1, 2, 3, 4, 5, 6, 3, 2, 1, 4, 5, 6, 2, 3, 4, 5, 1, 2, 3,\n",
    "            4, 5, 6, 3, 2, 1, 4, 5, 6, 2, 3]\n",
    "physical_activity = [5, 4, 3, 2, 1, 6, 5, 4, 3, 2, 1, 4, 5, 6, 3, 2, 1, 4, 5, 6,\n",
    "                     2, 3, 4, 5, 6, 3, 2, 1, 4, 5, 6, 2, 3, 4, 5, 6, 3, 2, 1, 4,\n",
    "                     5, 6, 2, 3, 4, 5, 6, 3, 2, 1, 4]\n",
    "\n",
    "# Calculate Pearson correlation coefficient\n",
    "pearson_corr_coeff, _ = pearsonr(tv_hours, physical_activity)\n",
    "\n",
    "# Print the Pearson correlation coefficient\n",
    "print(\"Pearson Correlation Coefficient:\", pearson_corr_coeff)"
   ]
  },
  {
   "cell_type": "markdown",
   "id": "a7e7d839-e7a5-4857-bd78-8539afe27546",
   "metadata": {},
   "source": [
    "Interpretation of the Result:\n",
    "\n",
    "The Pearson correlation coefficient between the number of hours individuals spend watching television per day and their level of physical activity is approximately -0.420. This value indicates a moderately strong negative linear relationship between the two variables.\n",
    "\n",
    "A negative correlation coefficient suggests that as the number of hours spent watching television per day increases, the level of physical activity tends to decrease. In other words, individuals who watch more television are likely to have lower levels of physical activity.\n",
    "\n",
    "The magnitude of -0.420 suggests a moderate negative correlation, meaning that there is a meaningful relationship between the variables. It's important to note that correlation does not imply causation. While there is a correlation between TV watching and physical activity, other factors could also influence these variables."
   ]
  },
  {
   "cell_type": "markdown",
   "id": "0064ddfc-ca67-41e1-b4ec-716e65b9c147",
   "metadata": {},
   "source": [
    "### Q5. A survey was conducted to examine the relationship between age and preference for a particular brand of soft drink. The survey results are shown below:\n",
    "\n",
    "1. Age(years):- 25, 42, 37, 19, 31, 28 \n",
    "2. Soft drink Preference:- coke, pepsi, Mountain dew , coke, pepsi, coke\n",
    "\n",
    "### Ans:-"
   ]
  },
  {
   "cell_type": "code",
   "execution_count": 11,
   "id": "5048464a-eda6-4ac3-99b5-b6c45b3ac034",
   "metadata": {},
   "outputs": [
    {
     "data": {
      "image/png": "[encoded data removed]",
      "text/plain": [
       "<Figure size 640x480 with 1 Axes>"
      ]
     },
     "metadata": {},
     "output_type": "display_data"
    }
   ],
   "source": [
    "import matplotlib.pyplot as plt\n",
    "\n",
    "# Data\n",
    "ages = [25, 42, 37, 19, 31, 28]\n",
    "soft_drink_preference = ['Coke', 'Pepsi', 'Mountain Dew', 'Coke', 'Pepsi', 'Coke']\n",
    "\n",
    "# Create a dictionary to count soft drink preferences\n",
    "preference_counts = {}\n",
    "for age, preference in zip(ages, soft_drink_preference):\n",
    "    if preference in preference_counts:\n",
    "        preference_counts[preference].append(age)\n",
    "    else:\n",
    "        preference_counts[preference] = [age]\n",
    "\n",
    "# Create a bar chart\n",
    "plt.bar(preference_counts.keys(), [len(ages) for ages in preference_counts.values()])\n",
    "plt.xlabel('Soft Drink Preference')\n",
    "plt.ylabel('Number of Participants')\n",
    "plt.title('Soft Drink Preference by Age')\n",
    "plt.show()"
   ]
  },
  {
   "cell_type": "markdown",
   "id": "7ad89ce6-55cc-434b-84bb-452b80f1a527",
   "metadata": {},
   "source": [
    "### Q6. A company is interested in examining the relationship between the number of sales calls made per day and the number of sales made per week. The company collected data on both variables from a sample of 30 sales representatives. Calculate the Pearson correlation coefficient between these two variables.\n",
    "\n",
    "### Ans:-"
   ]
  },
  {
   "cell_type": "code",
   "execution_count": 12,
   "id": "f4404774-8005-455e-91a0-a1d29f133133",
   "metadata": {},
   "outputs": [
    {
     "name": "stdout",
     "output_type": "stream",
     "text": [
      "Pearson Correlation Coefficient: 0.9823690591037955\n"
     ]
    }
   ],
   "source": [
    "import numpy as np\n",
    "from scipy.stats import pearsonr\n",
    "\n",
    "# Sample data for sales calls per day and sales per week\n",
    "sales_calls_per_day = [15, 20, 12, 18, 22, 10, 14, 16, 19, 25,\n",
    "                       17, 14, 16, 13, 21, 18, 20, 23, 12, 15,\n",
    "                       11, 10, 15, 19, 21, 17, 13, 16, 14, 12]\n",
    "\n",
    "sales_per_week = [5, 7, 3, 6, 8, 2, 4, 5, 7, 9,\n",
    "                  6, 3, 5, 4, 8, 6, 7, 8, 3, 5,\n",
    "                  3, 2, 5, 7, 8, 6, 4, 5, 4, 3]\n",
    "\n",
    "# Calculate Pearson correlation coefficient\n",
    "pearson_corr_coeff, _ = pearsonr(sales_calls_per_day, sales_per_week)\n",
    "\n",
    "# Print the Pearson correlation coefficient\n",
    "print(\"Pearson Correlation Coefficient:\", pearson_corr_coeff)"
   ]
  }
 ],
 "metadata": {
  "kernelspec": {
   "display_name": "Python 3 (ipykernel)",
   "language": "python",
   "name": "python3"
  },
  "language_info": {
   "codemirror_mode": {
    "name": "ipython",
    "version": 3
   },
   "file_extension": ".py",
   "mimetype": "text/x-python",
   "name": "python",
   "nbconvert_exporter": "python",
   "pygments_lexer": "ipython3",
   "version": "3.10.8"
  }
 },
 "nbformat": 4,
 "nbformat_minor": 5
}
