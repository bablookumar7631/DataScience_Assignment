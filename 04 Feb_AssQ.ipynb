{
 "cells": [
  {
   "cell_type": "markdown",
   "id": "9744adbc-9cab-4ec0-9ca2-e76e730be7ec",
   "metadata": {},
   "source": [
    "## Python"
   ]
  },
  {
   "cell_type": "markdown",
   "id": "e8a7598b-2788-4df7-90d3-7e75a208a871",
   "metadata": {},
   "source": [
    "### Q1. Create a python program to sort the given list of tuples based on integer value using a lambda function. \n",
    "[('Sachin Tendulkar', 34357), ('Ricky Ponting', 27483), ('Jack Kallis', 25534), ('Virat Kohli', 24936)]\n",
    "\n",
    "### Ans:-"
   ]
  },
  {
   "cell_type": "code",
   "execution_count": 1,
   "id": "d2530b20-9da9-4cd7-bc08-ef030fa0b264",
   "metadata": {},
   "outputs": [
    {
     "name": "stdout",
     "output_type": "stream",
     "text": [
      "('Virat Kohli', 24936)\n",
      "('Jack Kallis', 25534)\n",
      "('Ricky Ponting', 27483)\n",
      "('Sachin Tendulkar', 34357)\n"
     ]
    }
   ],
   "source": [
    "data = [('Sachin Tendulkar', 34357), ('Ricky Ponting', 27483), ('Jack Kallis', 25534), ('Virat Kohli', 24936)]\n",
    "\n",
    "# Sort the list of tuples based on the integer value (second element) using a lambda function\n",
    "sorted_data = sorted(data, key=lambda x: x[1])\n",
    "\n",
    "# Print the sorted list\n",
    "for item in sorted_data:\n",
    "    print(item)"
   ]
  },
  {
   "cell_type": "markdown",
   "id": "f09e7ef4-078d-4ad1-b20b-93214890c010",
   "metadata": {},
   "source": [
    "### Q2. Write a Python Program to find the squares of all the numbers in the given list of integers using lambda and map functions.\n",
    "[1, 2, 3, 4, 5, 6, 7, 8, 9, 10]\n",
    "\n",
    "### Ans:-"
   ]
  },
  {
   "cell_type": "code",
   "execution_count": 2,
   "id": "a4667e04-6051-46ac-8497-8dcde09ab395",
   "metadata": {},
   "outputs": [
    {
     "name": "stdout",
     "output_type": "stream",
     "text": [
      "[1, 4, 9, 16, 25, 36, 49, 64, 81, 100]\n"
     ]
    }
   ],
   "source": [
    "# Given list of integers\n",
    "numbers = [1, 2, 3, 4, 5, 6, 7, 8, 9, 10]\n",
    "\n",
    "# Use map and a lambda function to find the squares\n",
    "squares = list(map(lambda x: x**2, numbers))\n",
    "\n",
    "# Print the list of squares\n",
    "print(squares)"
   ]
  },
  {
   "cell_type": "markdown",
   "id": "e53840c4-ed76-443a-b7a9-e70805075fe0",
   "metadata": {},
   "source": [
    "### Q3. Write a python program to convert the given list of integers into a tuple of strings. Use map and lambda functions\n",
    "Given String: [1, 2, 3, 4, 5, 6, 7, 8, 9, 10]\n",
    "\n",
    "Expected output: ('1', '2', '3', '4', '5', '6', '7', '8', '9', '10')\n",
    "\n",
    "### Ans:-"
   ]
  },
  {
   "cell_type": "code",
   "execution_count": 3,
   "id": "b57c0a5d-b9bb-4a81-918d-034390e51ca0",
   "metadata": {},
   "outputs": [
    {
     "name": "stdout",
     "output_type": "stream",
     "text": [
      "('1', '2', '3', '4', '5', '6', '7', '8', '9', '10')\n"
     ]
    }
   ],
   "source": [
    "# Given list of integers\n",
    "numbers = [1, 2, 3, 4, 5, 6, 7, 8, 9, 10]\n",
    "\n",
    "# Use map and a lambda function to convert integers to strings\n",
    "string_tuple = tuple(map(lambda x: str(x), numbers))\n",
    "\n",
    "# Print the tuple of strings\n",
    "print(string_tuple)"
   ]
  },
  {
   "cell_type": "markdown",
   "id": "c5edf2eb-e3b6-40b2-8641-ece6c71a0f10",
   "metadata": {},
   "source": [
    "### Q4.  Write a python program using reduce function to compute the product of a list containing numbers from 1 to 25.\n",
    "\n",
    "### Ans:-"
   ]
  },
  {
   "cell_type": "code",
   "execution_count": 4,
   "id": "f4d3c0ee-a652-401d-9885-b07c445d6e57",
   "metadata": {},
   "outputs": [
    {
     "name": "stdout",
     "output_type": "stream",
     "text": [
      "Product of numbers from 1 to 25: 15511210043330985984000000\n"
     ]
    }
   ],
   "source": [
    "from functools import reduce\n",
    "\n",
    "# Create a list of numbers from 1 to 25\n",
    "numbers = list(range(1, 26))\n",
    "\n",
    "# Define a function to compute the product of two numbers\n",
    "def multiply(x, y):\n",
    "    return x * y\n",
    "\n",
    "# Use reduce to compute the product of the list of numbers\n",
    "product = reduce(multiply, numbers)\n",
    "\n",
    "# Print the result\n",
    "print(\"Product of numbers from 1 to 25:\", product)"
   ]
  },
  {
   "cell_type": "markdown",
   "id": "d80d6e5f-d4fd-45f8-aa1b-2dd0b53c8e10",
   "metadata": {},
   "source": [
    "### Q5. Write a python program to filter the numbers in a given list that are divisible by 2 and 3 using the filter function.\n",
    "\n",
    "[2, 3, 6, 9, 27, 60, 90, 120, 55, 46]\n",
    "\n",
    "### Ans:-"
   ]
  },
  {
   "cell_type": "code",
   "execution_count": 5,
   "id": "36bd96f5-6330-4cbe-a1b8-8f570e2718a0",
   "metadata": {},
   "outputs": [
    {
     "name": "stdout",
     "output_type": "stream",
     "text": [
      "Numbers divisible by 2 and 3: [6, 60, 90, 120]\n"
     ]
    }
   ],
   "source": [
    "# Given list of numbers\n",
    "numbers = [2, 3, 6, 9, 27, 60, 90, 120, 55, 46]\n",
    "\n",
    "# Define a function to check if a number is divisible by 2 and 3\n",
    "def is_divisible_by_2_and_3(num):\n",
    "    return num % 2 == 0 and num % 3 == 0\n",
    "\n",
    "# Use filter to filter the numbers\n",
    "filtered_numbers = list(filter(is_divisible_by_2_and_3, numbers))\n",
    "\n",
    "# Print the filtered numbers\n",
    "print(\"Numbers divisible by 2 and 3:\", filtered_numbers)"
   ]
  },
  {
   "cell_type": "markdown",
   "id": "0d0d69d4-102d-4f4c-a32e-644dee02ebac",
   "metadata": {},
   "source": [
    "### Q6. Write a python program to find palindromes in the given list of strings using lambda and filter function.\n",
    "\n",
    "['python', 'php', 'aba', 'radar', 'level']\n",
    "\n",
    "### Ans:-"
   ]
  },
  {
   "cell_type": "code",
   "execution_count": 6,
   "id": "e670171a-38d5-4d2f-a28f-e4859be35d63",
   "metadata": {},
   "outputs": [
    {
     "name": "stdout",
     "output_type": "stream",
     "text": [
      "Palindromes in the list: ['php', 'aba', 'radar', 'level']\n"
     ]
    }
   ],
   "source": [
    "# Given list of strings\n",
    "words = ['python', 'php', 'aba', 'radar', 'level']\n",
    "\n",
    "# Define a lambda function to check if a string is a palindrome\n",
    "is_palindrome = lambda s: s == s[::-1]\n",
    "\n",
    "# Use filter to find palindromes\n",
    "palindromes = list(filter(is_palindrome, words))\n",
    "\n",
    "# Print the palindromes\n",
    "print(\"Palindromes in the list:\", palindromes)"
   ]
  }
 ],
 "metadata": {
  "kernelspec": {
   "display_name": "Python 3 (ipykernel)",
   "language": "python",
   "name": "python3"
  },
  "language_info": {
   "codemirror_mode": {
    "name": "ipython",
    "version": 3
   },
   "file_extension": ".py",
   "mimetype": "text/x-python",
   "name": "python",
   "nbconvert_exporter": "python",
   "pygments_lexer": "ipython3",
   "version": "3.10.8"
  }
 },
 "nbformat": 4,
 "nbformat_minor": 5
}
