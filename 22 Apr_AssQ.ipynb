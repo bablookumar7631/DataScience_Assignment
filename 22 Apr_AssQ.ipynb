{
 "cells": [
  {
   "cell_type": "markdown",
   "id": "14ea2a38-6069-438c-8171-572001a04571",
   "metadata": {},
   "source": [
    "# KNN-3"
   ]
  },
  {
   "cell_type": "markdown",
   "id": "5f2c63d3-cb64-494f-a814-f061a4c607fd",
   "metadata": {},
   "source": [
    "### Q1. Write a Python code to implement the KNN classifier algorithm on load_iris dataset in sklearn.datasets.\n",
    "\n",
    "### Ans:-"
   ]
  },
  {
   "cell_type": "code",
   "execution_count": 1,
   "id": "8ec6f898-907c-46a0-a8e9-4f047a519873",
   "metadata": {},
   "outputs": [
    {
     "name": "stdout",
     "output_type": "stream",
     "text": [
      "Accuracy of the KNN classifier with k=3: 1.00\n"
     ]
    }
   ],
   "source": [
    "import numpy as np\n",
    "from sklearn.datasets import load_iris\n",
    "from sklearn.model_selection import train_test_split\n",
    "from sklearn.neighbors import KNeighborsClassifier\n",
    "from sklearn.metrics import accuracy_score\n",
    "\n",
    "# Load the Iris dataset\n",
    "iris = load_iris()\n",
    "X = iris.data  # Features\n",
    "y = iris.target  # Target variable (labels)\n",
    "\n",
    "# Split the dataset into a training set and a testing set (80% train, 20% test)\n",
    "X_train, X_test, y_train, y_test = train_test_split(X, y, test_size=0.2, random_state=42)\n",
    "\n",
    "# Create a KNN classifier with a chosen value of 'k' (e.g., k=3)\n",
    "k = 3\n",
    "knn_classifier = KNeighborsClassifier(n_neighbors=k)\n",
    "\n",
    "# Train the KNN classifier on the training data\n",
    "knn_classifier.fit(X_train, y_train)\n",
    "\n",
    "# Make predictions on the test data\n",
    "y_pred = knn_classifier.predict(X_test)\n",
    "\n",
    "# Calculate the accuracy of the classifier\n",
    "accuracy = accuracy_score(y_test, y_pred)\n",
    "print(f\"Accuracy of the KNN classifier with k={k}: {accuracy:.2f}\")"
   ]
  },
  {
   "cell_type": "markdown",
   "id": "125dab52-15e5-48be-bf2a-f79d9df6abf9",
   "metadata": {},
   "source": [
    "### Q2. Write a Python code to implement the KNN regressor algorithm on load_boston dataset in sklearn.datasets.\n",
    "\n",
    "### Ans:-"
   ]
  },
  {
   "cell_type": "code",
   "execution_count": 7,
   "id": "6ac118d4-0a82-4a2d-80c7-97cabbe11cfe",
   "metadata": {},
   "outputs": [
    {
     "name": "stdout",
     "output_type": "stream",
     "text": [
      "Mean Squared Error of the KNN regressor with k=3: 1.17\n"
     ]
    }
   ],
   "source": [
    "import numpy as np\n",
    "from sklearn.datasets import fetch_california_housing\n",
    "from sklearn.model_selection import train_test_split\n",
    "from sklearn.neighbors import KNeighborsRegressor\n",
    "from sklearn.metrics import mean_squared_error\n",
    "\n",
    "# Load the California housing dataset\n",
    "california_housing = fetch_california_housing()\n",
    "X = california_housing.data  # Features\n",
    "y = california_housing.target  # Target variable (median house values)\n",
    "\n",
    "# Split the dataset into a training set and a testing set (80% train, 20% test)\n",
    "X_train, X_test, y_train, y_test = train_test_split(X, y, test_size=0.2, random_state=42)\n",
    "\n",
    "# Create a KNN regressor with a chosen value of 'k' (e.g., k=3)\n",
    "k = 3\n",
    "knn_regressor = KNeighborsRegressor(n_neighbors=k)\n",
    "\n",
    "# Train the KNN regressor on the training data\n",
    "knn_regressor.fit(X_train, y_train)\n",
    "\n",
    "# Make predictions on the test data\n",
    "y_pred = knn_regressor.predict(X_test)\n",
    "\n",
    "# Calculate the mean squared error (MSE) of the regressor\n",
    "mse = mean_squared_error(y_test, y_pred)\n",
    "print(f\"Mean Squared Error of the KNN regressor with k={k}: {mse:.2f}\")"
   ]
  },
  {
   "cell_type": "markdown",
   "id": "7faba563-f4be-464f-9c80-24173320484f",
   "metadata": {},
   "source": [
    "### Q3. Write a Python code snippet to find the optimal value of K for the KNN classifier algorithm using cross-validation on load_iris dataset in sklearn.datasets.\n",
    "\n",
    "### Ans:-"
   ]
  },
  {
   "cell_type": "code",
   "execution_count": 8,
   "id": "5272f286-5b3e-4d6f-a03b-60d2400eb6c3",
   "metadata": {},
   "outputs": [
    {
     "name": "stdout",
     "output_type": "stream",
     "text": [
      "Optimal K for KNN Classifier: 6\n",
      "Cross-Validation Score with Optimal K: 0.98\n"
     ]
    }
   ],
   "source": [
    "import numpy as np\n",
    "from sklearn.datasets import load_iris\n",
    "from sklearn.model_selection import cross_val_score\n",
    "from sklearn.neighbors import KNeighborsClassifier\n",
    "\n",
    "# Load the Iris dataset\n",
    "iris = load_iris()\n",
    "X = iris.data  # Features\n",
    "y = iris.target  # Target variable (labels)\n",
    "\n",
    "# Create a range of K values to consider\n",
    "k_values = list(range(1, 31))  # You can adjust the range as needed\n",
    "\n",
    "# Initialize a dictionary to store cross-validation scores for each K\n",
    "k_scores = {}\n",
    "\n",
    "# Perform cross-validation for each K\n",
    "for k in k_values:\n",
    "    knn_classifier = KNeighborsClassifier(n_neighbors=k)\n",
    "    scores = cross_val_score(knn_classifier, X, y, cv=5, scoring='accuracy')  # 5-fold cross-validation\n",
    "    k_scores[k] = np.mean(scores)\n",
    "\n",
    "# Find the K with the highest cross-validation score\n",
    "optimal_k = max(k_scores, key=k_scores.get)\n",
    "\n",
    "# Print the optimal K and its corresponding cross-validation score\n",
    "print(f\"Optimal K for KNN Classifier: {optimal_k}\")\n",
    "print(f\"Cross-Validation Score with Optimal K: {k_scores[optimal_k]:.2f}\")"
   ]
  },
  {
   "cell_type": "markdown",
   "id": "33de66cc-43a0-400c-856e-42b14bddfec7",
   "metadata": {},
   "source": [
    "### Q4. Implement the KNN regressor algorithm with feature scaling on load_boston dataset in sklearn.datasets.\n",
    "\n",
    "### Ans:-"
   ]
  },
  {
   "cell_type": "code",
   "execution_count": 10,
   "id": "c06fc832-7aad-44d5-b827-3db0470c3c57",
   "metadata": {},
   "outputs": [
    {
     "name": "stdout",
     "output_type": "stream",
     "text": [
      "Mean Squared Error of the KNN regressor with k=3: 0.47\n"
     ]
    }
   ],
   "source": [
    "import numpy as np\n",
    "from sklearn.datasets import fetch_california_housing\n",
    "from sklearn.model_selection import train_test_split\n",
    "from sklearn.neighbors import KNeighborsRegressor\n",
    "from sklearn.preprocessing import StandardScaler\n",
    "from sklearn.metrics import mean_squared_error\n",
    "\n",
    "# Load the California Housing dataset\n",
    "california_housing = fetch_california_housing()\n",
    "X = california_housing.data  # Features\n",
    "y = california_housing.target  # Target variable (median house values)\n",
    "\n",
    "# Split the dataset into a training set and a testing set (80% train, 20% test)\n",
    "X_train, X_test, y_train, y_test = train_test_split(X, y, test_size=0.2, random_state=42)\n",
    "\n",
    "# Create a StandardScaler to scale the features\n",
    "scaler = StandardScaler()\n",
    "\n",
    "# Fit the scaler on the training data and transform both the training and test data\n",
    "X_train_scaled = scaler.fit_transform(X_train)\n",
    "X_test_scaled = scaler.transform(X_test)\n",
    "\n",
    "# Create a KNN regressor with a chosen value of 'k' (e.g., k=3)\n",
    "k = 3\n",
    "knn_regressor = KNeighborsRegressor(n_neighbors=k)\n",
    "\n",
    "# Train the KNN regressor on the scaled training data\n",
    "knn_regressor.fit(X_train_scaled, y_train)\n",
    "\n",
    "# Make predictions on the scaled test data\n",
    "y_pred = knn_regressor.predict(X_test_scaled)\n",
    "\n",
    "# Calculate the mean squared error (MSE) of the regressor\n",
    "mse = mean_squared_error(y_test, y_pred)\n",
    "print(f\"Mean Squared Error of the KNN regressor with k={k}: {mse:.2f}\")"
   ]
  },
  {
   "cell_type": "markdown",
   "id": "a9aff457-cdcf-4ba0-9459-6fd260fa862a",
   "metadata": {},
   "source": [
    "### Q5. Write a Python code snippet to implement the KNN classifier algorithm with weighted voting on load_iris dataset in sklearn.datasets.\n",
    "\n",
    "### Ans:-"
   ]
  },
  {
   "cell_type": "code",
   "execution_count": 11,
   "id": "c86fe7ed-ab6d-4f6b-b913-3e6873b5fd6e",
   "metadata": {},
   "outputs": [
    {
     "name": "stdout",
     "output_type": "stream",
     "text": [
      "Accuracy of the KNN classifier with weighted voting (k=3): 1.00\n"
     ]
    }
   ],
   "source": [
    "import numpy as np\n",
    "from sklearn.datasets import load_iris\n",
    "from sklearn.model_selection import train_test_split\n",
    "from sklearn.neighbors import KNeighborsClassifier\n",
    "from sklearn.metrics import accuracy_score\n",
    "\n",
    "# Load the Iris dataset\n",
    "iris = load_iris()\n",
    "X = iris.data  # Features\n",
    "y = iris.target  # Target variable (labels)\n",
    "\n",
    "# Split the dataset into a training set and a testing set (80% train, 20% test)\n",
    "X_train, X_test, y_train, y_test = train_test_split(X, y, test_size=0.2, random_state=42)\n",
    "\n",
    "# Create a KNN classifier with weighted voting based on distances\n",
    "k = 3\n",
    "knn_classifier = KNeighborsClassifier(n_neighbors=k, weights='distance')\n",
    "\n",
    "# Train the KNN classifier on the training data\n",
    "knn_classifier.fit(X_train, y_train)\n",
    "\n",
    "# Make predictions on the test data\n",
    "y_pred = knn_classifier.predict(X_test)\n",
    "\n",
    "# Calculate the accuracy of the classifier\n",
    "accuracy = accuracy_score(y_test, y_pred)\n",
    "print(f\"Accuracy of the KNN classifier with weighted voting (k={k}): {accuracy:.2f}\")"
   ]
  },
  {
   "cell_type": "markdown",
   "id": "ee6ce6bd-4038-45f5-8432-ab7a7f926edf",
   "metadata": {},
   "source": [
    "### Q6. Implement a function to standardise the features before applying KNN classifier.\n",
    "\n",
    "### Ans:-"
   ]
  },
  {
   "cell_type": "code",
   "execution_count": 16,
   "id": "654f745b-e798-4bd0-a06c-608248a2dcb2",
   "metadata": {},
   "outputs": [],
   "source": [
    "from sklearn.preprocessing import StandardScaler\n",
    "\n",
    "def standardize_features(X_train, X_test):\n",
    "    \"\"\"\n",
    "    Standardizes the features of training and testing datasets.\n",
    "\n",
    "    Parameters:\n",
    "    - X_train: Training feature matrix (2D array-like)\n",
    "    - X_test: Testing feature matrix (2D array-like)\n",
    "\n",
    "    Returns:\n",
    "    - X_train_scaled: Standardized training feature matrix\n",
    "    - X_test_scaled: Standardized testing feature matrix\n",
    "    \"\"\"\n",
    "    # Create a StandardScaler instance\n",
    "    scaler = StandardScaler()\n",
    "\n",
    "    # Fit the scaler on the training data and transform both training and testing data\n",
    "    X_train_scaled = scaler.fit_transform(X_train)\n",
    "    X_test_scaled = scaler.transform(X_test)\n",
    "\n",
    "    return X_train_scaled, X_test_scaled"
   ]
  },
  {
   "cell_type": "code",
   "execution_count": 17,
   "id": "a105a06f-5cf8-495a-b1d4-ef0db649d670",
   "metadata": {},
   "outputs": [
    {
     "name": "stdout",
     "output_type": "stream",
     "text": [
      "Accuracy of the KNN classifier with standardization (k=3): 1.00\n"
     ]
    }
   ],
   "source": [
    "import numpy as np\n",
    "from sklearn.datasets import load_iris\n",
    "from sklearn.model_selection import train_test_split\n",
    "from sklearn.neighbors import KNeighborsClassifier\n",
    "from sklearn.metrics import accuracy_score\n",
    "\n",
    "# Load the Iris dataset\n",
    "iris = load_iris()\n",
    "X = iris.data  # Features\n",
    "y = iris.target  # Target variable (labels)\n",
    "\n",
    "# Split the dataset into a training set and a testing set (80% train, 20% test)\n",
    "X_train, X_test, y_train, y_test = train_test_split(X, y, test_size=0.2, random_state=42)\n",
    "\n",
    "# Standardize the features using the function\n",
    "X_train_scaled, X_test_scaled = standardize_features(X_train, X_test)\n",
    "\n",
    "# Create a KNN classifier\n",
    "k = 3\n",
    "knn_classifier = KNeighborsClassifier(n_neighbors=k)\n",
    "\n",
    "# Train the KNN classifier on the standardized training data\n",
    "knn_classifier.fit(X_train_scaled, y_train)\n",
    "\n",
    "# Make predictions on the standardized test data\n",
    "y_pred = knn_classifier.predict(X_test_scaled)\n",
    "\n",
    "# Calculate the accuracy of the classifier\n",
    "accuracy = accuracy_score(y_test, y_pred)\n",
    "print(f\"Accuracy of the KNN classifier with standardization (k={k}): {accuracy:.2f}\")"
   ]
  },
  {
   "cell_type": "markdown",
   "id": "da716572-190a-4a1f-909e-071c7a9a563e",
   "metadata": {},
   "source": [
    "### Q7. Write a Python function to calculate the euclidean distance between two points\n",
    "\n",
    "### Ans:-"
   ]
  },
  {
   "cell_type": "code",
   "execution_count": 25,
   "id": "0fb98654-0655-4db1-a039-fcf84b4d1816",
   "metadata": {},
   "outputs": [],
   "source": [
    "import numpy as np\n",
    "\n",
    "def euclidean_distance(point1, point2):\n",
    "    \"\"\"\n",
    "    Calculate the Euclidean distance between two points.\n",
    "\n",
    "    Parameters:\n",
    "    - point1: NumPy array representing the first point\n",
    "    - point2: NumPy array representing the second point\n",
    "\n",
    "    Returns:\n",
    "    - distance: Euclidean distance between the two points\n",
    "    \"\"\"\n",
    "    # Ensure both points have the same dimensionality\n",
    "    if len(point1) != len(point2):\n",
    "        raise ValueError(\"Both points must have the same dimensionality\")\n",
    "\n",
    "    # Calculate the squared differences for each dimension\n",
    "    squared_diff = [(x - y) ** 2 for x, y in zip(point1, point2)]\n",
    "\n",
    "    # Sum the squared differences and take the square root\n",
    "    distance = np.sqrt(np.sum(squared_diff))\n",
    "\n",
    "    return distance"
   ]
  },
  {
   "cell_type": "code",
   "execution_count": 26,
   "id": "744ba4f0-a9b8-459e-8dfd-09d9fe7ca47e",
   "metadata": {},
   "outputs": [
    {
     "name": "stdout",
     "output_type": "stream",
     "text": [
      "Euclidean Distance: 5.20\n"
     ]
    }
   ],
   "source": [
    "point1 = np.array([1, 2, 3])\n",
    "point2 = np.array([4, 5, 6])\n",
    "distance = euclidean_distance(point1, point2)\n",
    "print(f\"Euclidean Distance: {distance:.2f}\")"
   ]
  },
  {
   "cell_type": "markdown",
   "id": "4128b4ad-9195-4b6c-8303-22d9b4cc6c67",
   "metadata": {},
   "source": [
    "### Q8. Write a Python function to calculate the manhattan distance between two points.\n",
    "\n",
    "### Ans:-"
   ]
  },
  {
   "cell_type": "code",
   "execution_count": 27,
   "id": "ca42f165-b8e1-45a9-a318-8d334b8df161",
   "metadata": {},
   "outputs": [],
   "source": [
    "import numpy as np\n",
    "\n",
    "def manhattan_distance(point1, point2):\n",
    "    \"\"\"\n",
    "    Calculate the Manhattan distance between two points.\n",
    "\n",
    "    Parameters:\n",
    "    - point1: NumPy array representing the first point\n",
    "    - point2: NumPy array representing the second point\n",
    "\n",
    "    Returns:\n",
    "    - distance: Manhattan distance between the two points\n",
    "    \"\"\"\n",
    "    # Ensure both points have the same dimensionality\n",
    "    if len(point1) != len(point2):\n",
    "        raise ValueError(\"Both points must have the same dimensionality\")\n",
    "\n",
    "    # Calculate the absolute differences for each dimension and sum them\n",
    "    distance = np.sum(np.abs(point1 - point2))\n",
    "\n",
    "    return distance"
   ]
  },
  {
   "cell_type": "code",
   "execution_count": 28,
   "id": "bbc4b0b8-4698-434d-a479-db9e4bddb5c6",
   "metadata": {},
   "outputs": [
    {
     "name": "stdout",
     "output_type": "stream",
     "text": [
      "Manhattan Distance: 9.00\n"
     ]
    }
   ],
   "source": [
    "point1 = np.array([1, 2, 3])\n",
    "point2 = np.array([4, 5, 6])\n",
    "distance = manhattan_distance(point1, point2)\n",
    "print(f\"Manhattan Distance: {distance:.2f}\")"
   ]
  }
 ],
 "metadata": {
  "kernelspec": {
   "display_name": "Python 3 (ipykernel)",
   "language": "python",
   "name": "python3"
  },
  "language_info": {
   "codemirror_mode": {
    "name": "ipython",
    "version": 3
   },
   "file_extension": ".py",
   "mimetype": "text/x-python",
   "name": "python",
   "nbconvert_exporter": "python",
   "pygments_lexer": "ipython3",
   "version": "3.10.8"
  }
 },
 "nbformat": 4,
 "nbformat_minor": 5
}
