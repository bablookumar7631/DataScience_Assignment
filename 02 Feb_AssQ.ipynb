{
 "cells": [
  {
   "cell_type": "markdown",
   "id": "a11301bd-0e80-4dae-8123-935be8d1222f",
   "metadata": {},
   "source": [
    "## Python"
   ]
  },
  {
   "cell_type": "markdown",
   "id": "d150d00e-befb-41f5-be15-f17ac03cf239",
   "metadata": {},
   "source": [
    "### Q1.Explain with an example each when to use a for loop and a while loop.\n",
    "\n",
    "### Ans:-\n",
    "For Loop:-\n",
    "A for loop is generally used when you know the number of iterations or repetitions you need in advance. It's great for iterating over a range of values or a collection (like arrays or lists) where you can determine the start, end, and step size."
   ]
  },
  {
   "cell_type": "code",
   "execution_count": 1,
   "id": "1e509df6-0d56-472a-9ad1-7815324d6a14",
   "metadata": {},
   "outputs": [
    {
     "name": "stdout",
     "output_type": "stream",
     "text": [
      "1\n",
      "2\n",
      "3\n",
      "4\n",
      "5\n"
     ]
    }
   ],
   "source": [
    "for i in range(1, 6):  # range generates values from 1 to 5 (inclusive)\n",
    "    print(i)"
   ]
  },
  {
   "cell_type": "markdown",
   "id": "44733cda-9399-4882-90f3-8ffbae7e6efc",
   "metadata": {},
   "source": [
    "While Loop:-\n",
    "A while loop is useful when you need to repeat a block of code as long as a certain condition remains true. You might not know in advance how many iterations will occur; the loop will continue as long as the specified condition is met."
   ]
  },
  {
   "cell_type": "code",
   "execution_count": 2,
   "id": "ed8b56f4-8a77-496e-bcd9-1b8d2c21fb37",
   "metadata": {},
   "outputs": [
    {
     "name": "stdin",
     "output_type": "stream",
     "text": [
      "Please enter a number:  hi\n"
     ]
    },
    {
     "name": "stdout",
     "output_type": "stream",
     "text": [
      "Invalid input. Please enter a valid number.\n"
     ]
    },
    {
     "name": "stdin",
     "output_type": "stream",
     "text": [
      "Please enter a number:  5\n"
     ]
    }
   ],
   "source": [
    "valid_input = False\n",
    "while not valid_input:\n",
    "    user_input = input(\"Please enter a number: \")\n",
    "    if user_input.isdigit():\n",
    "        valid_input = True\n",
    "    else:\n",
    "        print(\"Invalid input. Please enter a valid number.\")"
   ]
  },
  {
   "cell_type": "markdown",
   "id": "427cd835-682e-43d7-b654-a32e8a7bf5bb",
   "metadata": {},
   "source": [
    "### Q2.  Write a python program to print the sum and product of the first 10 natural numbers using for and while loop.\n",
    "\n",
    "### Ans:-"
   ]
  },
  {
   "cell_type": "code",
   "execution_count": 3,
   "id": "2baaefc2-e0c8-43d5-b845-5eb46b94ca5d",
   "metadata": {},
   "outputs": [
    {
     "name": "stdout",
     "output_type": "stream",
     "text": [
      "Sum of the first 10 natural numbers: 55\n",
      "Product of the first 10 natural numbers: 3628800\n"
     ]
    }
   ],
   "source": [
    "# Calculating the sum and product of the first 10 natural numbers using a for loop\n",
    "sum_numbers = 0\n",
    "product_numbers = 1\n",
    "\n",
    "for i in range(1, 11):  # Loop from 1 to 10 (inclusive)\n",
    "    sum_numbers += i\n",
    "    product_numbers *= i\n",
    "\n",
    "print(\"Sum of the first 10 natural numbers:\", sum_numbers)\n",
    "print(\"Product of the first 10 natural numbers:\", product_numbers)"
   ]
  },
  {
   "cell_type": "code",
   "execution_count": 4,
   "id": "5ac2b2dd-928a-4340-80c9-ee7cc75d4d5a",
   "metadata": {},
   "outputs": [
    {
     "name": "stdout",
     "output_type": "stream",
     "text": [
      "Sum of the first 10 natural numbers: 55\n",
      "Product of the first 10 natural numbers: 3628800\n"
     ]
    }
   ],
   "source": [
    "# Calculating the sum and product of the first 10 natural numbers using a while loop\n",
    "sum_numbers = 0\n",
    "product_numbers = 1\n",
    "count = 1\n",
    "\n",
    "while count <= 10:\n",
    "    sum_numbers += count\n",
    "    product_numbers *= count\n",
    "    count += 1\n",
    "\n",
    "print(\"Sum of the first 10 natural numbers:\", sum_numbers)\n",
    "print(\"Product of the first 10 natural numbers:\", product_numbers)"
   ]
  },
  {
   "cell_type": "markdown",
   "id": "45acad8a-5b7e-420b-bd39-de321ce255de",
   "metadata": {},
   "source": [
    "### Q3. Create a python program to compute the electricity bill for a household. The per-unit charges in rupees are as follows: For the first 100 units, the user will be charged Rs. 4.5 per unit, for the next 100 units, the user will be charged Rs. 6 per unit, and for the next 100 units, the user will be charged Rs. 10 per unit, After 300 units and above the user will be charged Rs. 20 per unit.\n",
    "### You are required to take the units of electricity consumed in a month from the user as input.\n",
    "### You are required to take the units of electricity consumed in a month from the user as input.\n",
    "\n",
    "### Ans:-"
   ]
  },
  {
   "cell_type": "code",
   "execution_count": 7,
   "id": "035472ac-e682-4418-b1ec-22be0b309d0a",
   "metadata": {},
   "outputs": [
    {
     "name": "stdin",
     "output_type": "stream",
     "text": [
      "Enter the number of units consumed:  310\n"
     ]
    },
    {
     "name": "stdout",
     "output_type": "stream",
     "text": [
      "Electricity Bill: Rs. 2250.0\n"
     ]
    }
   ],
   "source": [
    "def calculate_electricity_bill(units):\n",
    "    total_bill = 0\n",
    "\n",
    "    if units <= 100:\n",
    "        total_bill = units * 4.5\n",
    "    elif units <= 200:\n",
    "        total_bill = 100 * 4.5 + (units - 100) * 6\n",
    "    elif units <= 300:\n",
    "        total_bill = 100 * 4.5 + 100 * 6 + (units - 200) * 10\n",
    "    else:\n",
    "        total_bill = 100 * 4.5 + 100 * 6 + 100 * 10 + (units - 300) * 20\n",
    "\n",
    "    return total_bill\n",
    "\n",
    "# Input from the user\n",
    "units_consumed = int(input(\"Enter the number of units consumed: \"))\n",
    "\n",
    "# Calculate and display the electricity bill\n",
    "bill_amount = calculate_electricity_bill(units_consumed)\n",
    "print(\"Electricity Bill: Rs.\", bill_amount)"
   ]
  },
  {
   "cell_type": "markdown",
   "id": "7e04b4dc-dacd-4e2a-aa69-68e50e125ccd",
   "metadata": {},
   "source": [
    "### Q4. Create a list of numbers from 1 to 100. Use for loop and while loop to calculate the cube of each number and if the cube of that number is divisible by 4 or 5 then append that number in a list and print that list.\n",
    "\n",
    "### Ans:-"
   ]
  },
  {
   "cell_type": "code",
   "execution_count": 8,
   "id": "166d0a9c-4529-477b-8982-293652baa89a",
   "metadata": {},
   "outputs": [
    {
     "name": "stdout",
     "output_type": "stream",
     "text": [
      "Numbers with cubes divisible by 4 or 5: [2, 4, 5, 6, 8, 10, 12, 14, 15, 16, 18, 20, 22, 24, 25, 26, 28, 30, 32, 34, 35, 36, 38, 40, 42, 44, 45, 46, 48, 50, 52, 54, 55, 56, 58, 60, 62, 64, 65, 66, 68, 70, 72, 74, 75, 76, 78, 80, 82, 84, 85, 86, 88, 90, 92, 94, 95, 96, 98, 100]\n"
     ]
    }
   ],
   "source": [
    "numbers = list(range(1, 101))\n",
    "result_numbers = []\n",
    "\n",
    "for num in numbers:\n",
    "    cube = num ** 3\n",
    "    if cube % 4 == 0 or cube % 5 == 0:\n",
    "        result_numbers.append(num)\n",
    "\n",
    "print(\"Numbers with cubes divisible by 4 or 5:\", result_numbers)"
   ]
  },
  {
   "cell_type": "code",
   "execution_count": 9,
   "id": "ce935cb4-e4e8-4bfb-a3ee-4f0ef969fced",
   "metadata": {},
   "outputs": [
    {
     "name": "stdout",
     "output_type": "stream",
     "text": [
      "Numbers with cubes divisible by 4 or 5: [2, 4, 5, 6, 8, 10, 12, 14, 15, 16, 18, 20, 22, 24, 25, 26, 28, 30, 32, 34, 35, 36, 38, 40, 42, 44, 45, 46, 48, 50, 52, 54, 55, 56, 58, 60, 62, 64, 65, 66, 68, 70, 72, 74, 75, 76, 78, 80, 82, 84, 85, 86, 88, 90, 92, 94, 95, 96, 98, 100]\n"
     ]
    }
   ],
   "source": [
    "numbers = list(range(1, 101))\n",
    "result_numbers = []\n",
    "count = 0\n",
    "\n",
    "while count < len(numbers):\n",
    "    cube = numbers[count] ** 3\n",
    "    if cube % 4 == 0 or cube % 5 == 0:\n",
    "        result_numbers.append(numbers[count])\n",
    "    count += 1\n",
    "\n",
    "print(\"Numbers with cubes divisible by 4 or 5:\", result_numbers)"
   ]
  },
  {
   "cell_type": "markdown",
   "id": "7effdb5a-de67-4ebc-b3be-b1505ff88fdc",
   "metadata": {},
   "source": [
    "### Q5.  Write a program to filter count vowels in the below-given string. string = \"I want to become a data scientist\"\n",
    "\n",
    "### Ans:-"
   ]
  },
  {
   "cell_type": "code",
   "execution_count": 10,
   "id": "5dab01c0-7eef-4f6c-a9b3-a4c1435ca424",
   "metadata": {},
   "outputs": [
    {
     "name": "stdout",
     "output_type": "stream",
     "text": [
      "Number of vowels: 12\n"
     ]
    }
   ],
   "source": [
    "string = \"I want to become a data scientist\"\n",
    "vowels = \"aeiouAEIOU\"  # List of vowels (both lowercase and uppercase)\n",
    "vowel_count = 0\n",
    "\n",
    "for char in string:\n",
    "    if char in vowels:\n",
    "        vowel_count += 1\n",
    "\n",
    "print(\"Number of vowels:\", vowel_count)"
   ]
  }
 ],
 "metadata": {
  "kernelspec": {
   "display_name": "Python 3 (ipykernel)",
   "language": "python",
   "name": "python3"
  },
  "language_info": {
   "codemirror_mode": {
    "name": "ipython",
    "version": 3
   },
   "file_extension": ".py",
   "mimetype": "text/x-python",
   "name": "python",
   "nbconvert_exporter": "python",
   "pygments_lexer": "ipython3",
   "version": "3.10.8"
  }
 },
 "nbformat": 4,
 "nbformat_minor": 5
}
