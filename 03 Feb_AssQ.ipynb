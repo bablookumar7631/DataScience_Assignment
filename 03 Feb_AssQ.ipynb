{
 "cells": [
  {
   "cell_type": "markdown",
   "id": "eac87636-e4c7-4d4d-8b58-8b88988dc826",
   "metadata": {},
   "source": [
    "### Q1. Which keyword is used to create a function? Create a function to return a list of odd numbers in the range of 1 to 25.\n",
    "\n",
    "### Ans:-\n",
    "The keyword used to create a function in Python is 'def'. "
   ]
  },
  {
   "cell_type": "code",
   "execution_count": 5,
   "id": "7b42accb-06f0-4436-8041-dbd7b7cc9065",
   "metadata": {},
   "outputs": [
    {
     "name": "stdout",
     "output_type": "stream",
     "text": [
      "[1, 2, 3, 4, 5, 6, 7, 8, 9, 10, 11, 12, 13, 14, 15, 16, 17, 18, 19, 20, 21, 22, 23, 24, 25]\n"
     ]
    }
   ],
   "source": [
    "def get_odd_numbers():\n",
    "    odd_numbers = []\n",
    "    for number in range(1, 26):\n",
    "        if number % 2 != 2:\n",
    "            odd_numbers.append(number)\n",
    "    return odd_numbers\n",
    "\n",
    "odd_list = get_odd_numbers()\n",
    "print(odd_list)"
   ]
  },
  {
   "cell_type": "markdown",
   "id": "d31922e7-1427-4cdd-bd9e-9f480062df37",
   "metadata": {},
   "source": [
    "### Q2. Why *args and **kwargs is used in some functions? Create a function each for *args and **kwargs to demonstrate their use.\n",
    "\n",
    "### Ans:-\n",
    "'*args' and '**kwargs' are used in Python functions to allow them to accept a variable number of arguments.\n",
    "\n",
    "- '*args': It allows you to pass a variable number of non-keyword arguments to a function. These arguments are collected into a tuple within the function, and you can iterate through them.\n",
    "\n",
    "- '**kwargs': It allows you to pass a variable number of keyword arguments (i.e., arguments with names) to a function. These arguments are collected into a dictionary within the function, and you can access their values by their names."
   ]
  },
  {
   "cell_type": "code",
   "execution_count": 7,
   "id": "deaf0997-5e19-4a3f-82f1-8a16b80ba305",
   "metadata": {},
   "outputs": [
    {
     "name": "stdout",
     "output_type": "stream",
     "text": [
      "6\n",
      "100\n"
     ]
    }
   ],
   "source": [
    "# Using args:\n",
    "def sum_numbers(*args):\n",
    "    result = 0\n",
    "    for num in args:\n",
    "        result += num\n",
    "    return result\n",
    "\n",
    "print(sum_numbers(1,2,3))\n",
    "print(sum_numbers(10,20,30,40))"
   ]
  },
  {
   "cell_type": "code",
   "execution_count": 8,
   "id": "a9317172-50a5-4287-973d-e3507467720a",
   "metadata": {},
   "outputs": [
    {
     "name": "stdout",
     "output_type": "stream",
     "text": [
      "name: Alice\n",
      "age: 30\n",
      "city: New York\n"
     ]
    }
   ],
   "source": [
    "def display_info(**kwargs):\n",
    "    for key, value in kwargs.items():\n",
    "        print(f\"{key}: {value}\")\n",
    "\n",
    "# Call the function with keyword arguments\n",
    "display_info(name=\"Alice\", age=30, city=\"New York\")"
   ]
  },
  {
   "cell_type": "markdown",
   "id": "55a135aa-beee-49f3-a5e3-4e75d0d4891c",
   "metadata": {},
   "source": [
    "### Q3. What is an iterator in python? Name the method used to initialise the iterator object and the method used for iteration. Use these methods to print the first five elements of the given list [2, 4, 6, 8, 10, 12, 14,16, 18, 20].\n",
    "\n",
    "### Ans:-\n",
    "In Python, an iterator is an object that represents a stream of data. It implements two essential methods: '__iter__()' and '__next__()'. These methods are used to initialize and iterate through the elements of the iterator, respectively.\n",
    "- '__iter__()': This method initializes the iterator object and returns itself. It's called when you create an iterator for an iterable object.\n",
    "\n",
    "- '__next__()': This method is used to fetch the next item from the iterator. It raises a StopIteration exception when there are no more items to return."
   ]
  },
  {
   "cell_type": "code",
   "execution_count": 9,
   "id": "83b834b4-7174-42e1-8b4f-41b210aa3c06",
   "metadata": {},
   "outputs": [
    {
     "name": "stdout",
     "output_type": "stream",
     "text": [
      "2\n",
      "4\n",
      "6\n",
      "8\n",
      "10\n"
     ]
    }
   ],
   "source": [
    "# Create an iterator for the list\n",
    "my_list = [2, 4, 6, 8, 10, 12, 14, 16, 18, 20]\n",
    "my_iterator = iter(my_list)\n",
    "\n",
    "# Iterate and print the first five elements\n",
    "for _ in range(5):\n",
    "    element = next(my_iterator)\n",
    "    print(element)"
   ]
  },
  {
   "cell_type": "markdown",
   "id": "aa6b967c-6afa-4f15-a7f2-172e18e6a6f5",
   "metadata": {},
   "source": [
    "### Q4. What is a generator function in python? Why yield keyword is used? Give an example of a generator function.\n",
    "\n",
    "### Ans:-\n",
    "A generator function in Python is a special type of function that allows you to generate a sequence of values on-the-fly. Unlike regular functions that return a value and then exit, generator functions use the 'yield' keyword to yield a value and temporarily pause the function's state. When you iterate over the generator, it continues executing from where it left off, allowing you to efficiently produce values without storing them all in memory at once. This makes generators particularly useful for working with large or infinite sequences.\n",
    "\n",
    "The 'yield' keyword is used to produce a value from the generator function and also to pause its execution. When a generator function encounters 'yield', it saves its state and yields the specified value to the caller. The next time the generator is iterated, it resumes execution from the point after the 'yield' and continues until it encounters the next 'yield' or reaches the end of the function."
   ]
  },
  {
   "cell_type": "code",
   "execution_count": 10,
   "id": "e4f305a5-e9f4-41dc-89c1-7593e0b382b9",
   "metadata": {},
   "outputs": [
    {
     "name": "stdout",
     "output_type": "stream",
     "text": [
      "5\n",
      "4\n",
      "3\n",
      "2\n",
      "1\n"
     ]
    }
   ],
   "source": [
    "def countdown(n):\n",
    "    while n > 0:\n",
    "        yield n\n",
    "        n -= 1\n",
    "\n",
    "# Create a generator object\n",
    "countdown_gen = countdown(5)\n",
    "\n",
    "# Iterate over the generator and print values\n",
    "for num in countdown_gen:\n",
    "    print(num)"
   ]
  },
  {
   "cell_type": "markdown",
   "id": "116427c6-e011-4ef3-9ee1-cd6cdb45b809",
   "metadata": {},
   "source": [
    "### Q5. Create a generator function for prime numbers less than 1000. Use the next() method to print the first 20 prime numbers.\n",
    "\n",
    "### Ans:-"
   ]
  },
  {
   "cell_type": "code",
   "execution_count": 11,
   "id": "334aa7d4-1271-4d5c-aab4-2b8a2786ef11",
   "metadata": {},
   "outputs": [
    {
     "name": "stdout",
     "output_type": "stream",
     "text": [
      "2\n",
      "3\n",
      "5\n",
      "7\n",
      "11\n",
      "13\n",
      "17\n",
      "19\n",
      "23\n",
      "29\n",
      "31\n",
      "37\n",
      "41\n",
      "43\n",
      "47\n",
      "53\n",
      "59\n",
      "61\n",
      "67\n",
      "71\n"
     ]
    }
   ],
   "source": [
    "def is_prime(num):\n",
    "    if num <= 1:\n",
    "        return False\n",
    "    if num <= 3:\n",
    "        return True\n",
    "    if num % 2 == 0 or num % 3 == 0:\n",
    "        return False\n",
    "    i = 5\n",
    "    while i * i <= num:\n",
    "        if num % i == 0 or num % (i + 2) == 0:\n",
    "            return False\n",
    "        i += 6\n",
    "    return True\n",
    "\n",
    "def prime_generator():\n",
    "    num = 2\n",
    "    while num < 1000:\n",
    "        if is_prime(num):\n",
    "            yield num\n",
    "        num += 1\n",
    "\n",
    "# Create a generator object\n",
    "prime_gen = prime_generator()\n",
    "\n",
    "# Print the first 20 prime numbers using the next() method\n",
    "for _ in range(20):\n",
    "    prime = next(prime_gen)\n",
    "    print(prime)"
   ]
  },
  {
   "cell_type": "markdown",
   "id": "8783f49e-b2ea-4dc3-bd81-00da5b3c5d82",
   "metadata": {},
   "source": [
    "### Q6. Write a python program to print the first 10 Fibonacci numbers using a while loop.\n",
    "\n",
    "### Ans:-"
   ]
  },
  {
   "cell_type": "code",
   "execution_count": 12,
   "id": "e2455c7b-1557-42b4-af7d-055004c757aa",
   "metadata": {},
   "outputs": [
    {
     "name": "stdout",
     "output_type": "stream",
     "text": [
      "0\n",
      "1\n",
      "1\n",
      "2\n",
      "3\n",
      "5\n",
      "8\n",
      "13\n",
      "21\n",
      "34\n"
     ]
    }
   ],
   "source": [
    "# Initialize the first two Fibonacci numbers\n",
    "fibonacci_sequence = [0, 1]\n",
    "\n",
    "# Use a while loop to generate the next 8 Fibonacci numbers\n",
    "while len(fibonacci_sequence) < 10:\n",
    "    next_fib = fibonacci_sequence[-1] + fibonacci_sequence[-2]\n",
    "    fibonacci_sequence.append(next_fib)\n",
    "\n",
    "# Print the first 10 Fibonacci numbers\n",
    "for number in fibonacci_sequence:\n",
    "    print(number)"
   ]
  },
  {
   "cell_type": "markdown",
   "id": "71be3f5f-4197-4f6a-a0a9-19ff55cc047a",
   "metadata": {},
   "source": [
    "### Q7. Write a List Comprehension to iterate through the given string: ‘pwskills’. Expected output: ['p', 'w', 's', 'k', 'i', 'l', 'l', 's'] \n",
    "\n",
    "### Ans:-"
   ]
  },
  {
   "cell_type": "code",
   "execution_count": 13,
   "id": "6f89866f-2db4-4d16-8cb6-3c28f7a4c0ed",
   "metadata": {},
   "outputs": [
    {
     "name": "stdout",
     "output_type": "stream",
     "text": [
      "['p', 'w', 's', 'k', 'i', 'l', 'l', 's']\n"
     ]
    }
   ],
   "source": [
    "input_string = 'pwskills'\n",
    "result_list = [char for char in input_string]\n",
    "print(result_list)"
   ]
  },
  {
   "cell_type": "markdown",
   "id": "11265d56-a5ad-46f8-bc86-983fc274664e",
   "metadata": {},
   "source": [
    "### Q8.Write a python program to check whether a given number is Palindrome or not using a while loop.\n",
    "\n",
    "### Ans:-"
   ]
  },
  {
   "cell_type": "code",
   "execution_count": 16,
   "id": "2e5db432-eef9-4899-b967-a1a1c37b949a",
   "metadata": {},
   "outputs": [
    {
     "name": "stdin",
     "output_type": "stream",
     "text": [
      "Enter a number:  141\n"
     ]
    },
    {
     "name": "stdout",
     "output_type": "stream",
     "text": [
      "141 is a palindrome.\n"
     ]
    }
   ],
   "source": [
    "def is_palindrome(number):\n",
    "    original_number = number\n",
    "    reverse = 0\n",
    "\n",
    "    while number > 0:\n",
    "        digit = number % 10\n",
    "        reverse = reverse * 10 + digit\n",
    "        number = number // 10\n",
    "\n",
    "    return original_number == reverse\n",
    "\n",
    "# Input from the user\n",
    "num = int(input(\"Enter a number: \"))\n",
    "\n",
    "# Check if the number is a palindrome\n",
    "if is_palindrome(num):\n",
    "    print(f\"{num} is a palindrome.\")\n",
    "else:\n",
    "    print(f\"{num} is not a palindrome.\")"
   ]
  },
  {
   "cell_type": "markdown",
   "id": "a0f3f971-4615-4217-8a9a-38550835ef8f",
   "metadata": {},
   "source": [
    "### Q9.Write a code to print odd numbers from 1 to 100 using list comprehension.\n",
    "### Note: Use a list comprehension to create a list from 1 to 100 and use another List comprehension to filter out odd numbers.\n",
    "\n",
    "### Ans:-"
   ]
  },
  {
   "cell_type": "code",
   "execution_count": 17,
   "id": "e4d24c96-f757-4109-94f8-49d9fce5100a",
   "metadata": {},
   "outputs": [
    {
     "name": "stdout",
     "output_type": "stream",
     "text": [
      "[1, 3, 5, 7, 9, 11, 13, 15, 17, 19, 21, 23, 25, 27, 29, 31, 33, 35, 37, 39, 41, 43, 45, 47, 49, 51, 53, 55, 57, 59, 61, 63, 65, 67, 69, 71, 73, 75, 77, 79, 81, 83, 85, 87, 89, 91, 93, 95, 97, 99]\n"
     ]
    }
   ],
   "source": [
    "# Create a list of numbers from 1 to 100\n",
    "numbers = [x for x in range(1, 101)]\n",
    "\n",
    "# Use list comprehension to filter out the odd numbers\n",
    "odd_numbers = [x for x in numbers if x % 2 != 0]\n",
    "\n",
    "# Print the list of odd numbers\n",
    "print(odd_numbers)"
   ]
  }
 ],
 "metadata": {
  "kernelspec": {
   "display_name": "Python 3 (ipykernel)",
   "language": "python",
   "name": "python3"
  },
  "language_info": {
   "codemirror_mode": {
    "name": "ipython",
    "version": 3
   },
   "file_extension": ".py",
   "mimetype": "text/x-python",
   "name": "python",
   "nbconvert_exporter": "python",
   "pygments_lexer": "ipython3",
   "version": "3.10.8"
  }
 },
 "nbformat": 4,
 "nbformat_minor": 5
}
